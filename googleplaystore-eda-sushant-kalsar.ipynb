{
 "cells": [
  {
   "cell_type": "code",
   "execution_count": 1,
   "id": "db718744",
   "metadata": {
    "_cell_guid": "b1076dfc-b9ad-4769-8c92-a6c4dae69d19",
    "_uuid": "8f2839f25d086af736a60e9eeb907d3b93b6e0e5",
    "execution": {
     "iopub.execute_input": "2025-09-05T14:45:15.527088Z",
     "iopub.status.busy": "2025-09-05T14:45:15.526671Z",
     "iopub.status.idle": "2025-09-05T14:45:19.696196Z",
     "shell.execute_reply": "2025-09-05T14:45:19.695183Z"
    },
    "papermill": {
     "duration": 4.183759,
     "end_time": "2025-09-05T14:45:19.698209",
     "exception": false,
     "start_time": "2025-09-05T14:45:15.514450",
     "status": "completed"
    },
    "tags": []
   },
   "outputs": [],
   "source": [
    "import numpy as np\n",
    "import pandas as pd\n",
    "import matplotlib.pyplot as plt\n",
    "import seaborn as sns\n",
    "\n",
    "plt.style.use('ggplot')"
   ]
  },
  {
   "cell_type": "markdown",
   "id": "3002692e",
   "metadata": {
    "papermill": {
     "duration": 0.009159,
     "end_time": "2025-09-05T14:45:19.717411",
     "exception": false,
     "start_time": "2025-09-05T14:45:19.708252",
     "status": "completed"
    },
    "tags": []
   },
   "source": [
    "# Data Cleaning"
   ]
  },
  {
   "cell_type": "code",
   "execution_count": 2,
   "id": "001215fd",
   "metadata": {
    "execution": {
     "iopub.execute_input": "2025-09-05T14:45:19.739275Z",
     "iopub.status.busy": "2025-09-05T14:45:19.738813Z",
     "iopub.status.idle": "2025-09-05T14:45:19.854712Z",
     "shell.execute_reply": "2025-09-05T14:45:19.853825Z"
    },
    "papermill": {
     "duration": 0.12931,
     "end_time": "2025-09-05T14:45:19.856182",
     "exception": false,
     "start_time": "2025-09-05T14:45:19.726872",
     "status": "completed"
    },
    "tags": []
   },
   "outputs": [
    {
     "data": {
      "text/html": [
       "<div>\n",
       "<style scoped>\n",
       "    .dataframe tbody tr th:only-of-type {\n",
       "        vertical-align: middle;\n",
       "    }\n",
       "\n",
       "    .dataframe tbody tr th {\n",
       "        vertical-align: top;\n",
       "    }\n",
       "\n",
       "    .dataframe thead th {\n",
       "        text-align: right;\n",
       "    }\n",
       "</style>\n",
       "<table border=\"1\" class=\"dataframe\">\n",
       "  <thead>\n",
       "    <tr style=\"text-align: right;\">\n",
       "      <th></th>\n",
       "      <th>App</th>\n",
       "      <th>Category</th>\n",
       "      <th>Rating</th>\n",
       "      <th>Reviews</th>\n",
       "      <th>Size</th>\n",
       "      <th>Installs</th>\n",
       "      <th>Type</th>\n",
       "      <th>Price</th>\n",
       "      <th>Content Rating</th>\n",
       "      <th>Genres</th>\n",
       "      <th>Last Updated</th>\n",
       "      <th>Current Ver</th>\n",
       "      <th>Android Ver</th>\n",
       "    </tr>\n",
       "  </thead>\n",
       "  <tbody>\n",
       "    <tr>\n",
       "      <th>0</th>\n",
       "      <td>Photo Editor &amp; Candy Camera &amp; Grid &amp; ScrapBook</td>\n",
       "      <td>ART_AND_DESIGN</td>\n",
       "      <td>4.1</td>\n",
       "      <td>159</td>\n",
       "      <td>19M</td>\n",
       "      <td>10,000+</td>\n",
       "      <td>Free</td>\n",
       "      <td>0</td>\n",
       "      <td>Everyone</td>\n",
       "      <td>Art &amp; Design</td>\n",
       "      <td>January 7, 2018</td>\n",
       "      <td>1.0.0</td>\n",
       "      <td>4.0.3 and up</td>\n",
       "    </tr>\n",
       "    <tr>\n",
       "      <th>1</th>\n",
       "      <td>Coloring book moana</td>\n",
       "      <td>ART_AND_DESIGN</td>\n",
       "      <td>3.9</td>\n",
       "      <td>967</td>\n",
       "      <td>14M</td>\n",
       "      <td>500,000+</td>\n",
       "      <td>Free</td>\n",
       "      <td>0</td>\n",
       "      <td>Everyone</td>\n",
       "      <td>Art &amp; Design;Pretend Play</td>\n",
       "      <td>January 15, 2018</td>\n",
       "      <td>2.0.0</td>\n",
       "      <td>4.0.3 and up</td>\n",
       "    </tr>\n",
       "    <tr>\n",
       "      <th>2</th>\n",
       "      <td>U Launcher Lite – FREE Live Cool Themes, Hide ...</td>\n",
       "      <td>ART_AND_DESIGN</td>\n",
       "      <td>4.7</td>\n",
       "      <td>87510</td>\n",
       "      <td>8.7M</td>\n",
       "      <td>5,000,000+</td>\n",
       "      <td>Free</td>\n",
       "      <td>0</td>\n",
       "      <td>Everyone</td>\n",
       "      <td>Art &amp; Design</td>\n",
       "      <td>August 1, 2018</td>\n",
       "      <td>1.2.4</td>\n",
       "      <td>4.0.3 and up</td>\n",
       "    </tr>\n",
       "    <tr>\n",
       "      <th>3</th>\n",
       "      <td>Sketch - Draw &amp; Paint</td>\n",
       "      <td>ART_AND_DESIGN</td>\n",
       "      <td>4.5</td>\n",
       "      <td>215644</td>\n",
       "      <td>25M</td>\n",
       "      <td>50,000,000+</td>\n",
       "      <td>Free</td>\n",
       "      <td>0</td>\n",
       "      <td>Teen</td>\n",
       "      <td>Art &amp; Design</td>\n",
       "      <td>June 8, 2018</td>\n",
       "      <td>Varies with device</td>\n",
       "      <td>4.2 and up</td>\n",
       "    </tr>\n",
       "    <tr>\n",
       "      <th>4</th>\n",
       "      <td>Pixel Draw - Number Art Coloring Book</td>\n",
       "      <td>ART_AND_DESIGN</td>\n",
       "      <td>4.3</td>\n",
       "      <td>967</td>\n",
       "      <td>2.8M</td>\n",
       "      <td>100,000+</td>\n",
       "      <td>Free</td>\n",
       "      <td>0</td>\n",
       "      <td>Everyone</td>\n",
       "      <td>Art &amp; Design;Creativity</td>\n",
       "      <td>June 20, 2018</td>\n",
       "      <td>1.1</td>\n",
       "      <td>4.4 and up</td>\n",
       "    </tr>\n",
       "  </tbody>\n",
       "</table>\n",
       "</div>"
      ],
      "text/plain": [
       "                                                 App        Category  Rating  \\\n",
       "0     Photo Editor & Candy Camera & Grid & ScrapBook  ART_AND_DESIGN     4.1   \n",
       "1                                Coloring book moana  ART_AND_DESIGN     3.9   \n",
       "2  U Launcher Lite – FREE Live Cool Themes, Hide ...  ART_AND_DESIGN     4.7   \n",
       "3                              Sketch - Draw & Paint  ART_AND_DESIGN     4.5   \n",
       "4              Pixel Draw - Number Art Coloring Book  ART_AND_DESIGN     4.3   \n",
       "\n",
       "  Reviews  Size     Installs  Type Price Content Rating  \\\n",
       "0     159   19M      10,000+  Free     0       Everyone   \n",
       "1     967   14M     500,000+  Free     0       Everyone   \n",
       "2   87510  8.7M   5,000,000+  Free     0       Everyone   \n",
       "3  215644   25M  50,000,000+  Free     0           Teen   \n",
       "4     967  2.8M     100,000+  Free     0       Everyone   \n",
       "\n",
       "                      Genres      Last Updated         Current Ver  \\\n",
       "0               Art & Design   January 7, 2018               1.0.0   \n",
       "1  Art & Design;Pretend Play  January 15, 2018               2.0.0   \n",
       "2               Art & Design    August 1, 2018               1.2.4   \n",
       "3               Art & Design      June 8, 2018  Varies with device   \n",
       "4    Art & Design;Creativity     June 20, 2018                 1.1   \n",
       "\n",
       "    Android Ver  \n",
       "0  4.0.3 and up  \n",
       "1  4.0.3 and up  \n",
       "2  4.0.3 and up  \n",
       "3    4.2 and up  \n",
       "4    4.4 and up  "
      ]
     },
     "execution_count": 2,
     "metadata": {},
     "output_type": "execute_result"
    }
   ],
   "source": [
    "df=pd.read_csv(\"/kaggle/input/googleplaystore-dataset/googleplaystore.csv\")\n",
    "df.head()"
   ]
  },
  {
   "cell_type": "code",
   "execution_count": 3,
   "id": "e553e4b3",
   "metadata": {
    "execution": {
     "iopub.execute_input": "2025-09-05T14:45:19.877806Z",
     "iopub.status.busy": "2025-09-05T14:45:19.877457Z",
     "iopub.status.idle": "2025-09-05T14:45:19.909453Z",
     "shell.execute_reply": "2025-09-05T14:45:19.908376Z"
    },
    "papermill": {
     "duration": 0.04433,
     "end_time": "2025-09-05T14:45:19.911129",
     "exception": false,
     "start_time": "2025-09-05T14:45:19.866799",
     "status": "completed"
    },
    "tags": []
   },
   "outputs": [
    {
     "name": "stdout",
     "output_type": "stream",
     "text": [
      "<class 'pandas.core.frame.DataFrame'>\n",
      "RangeIndex: 10841 entries, 0 to 10840\n",
      "Data columns (total 13 columns):\n",
      " #   Column          Non-Null Count  Dtype  \n",
      "---  ------          --------------  -----  \n",
      " 0   App             10841 non-null  object \n",
      " 1   Category        10841 non-null  object \n",
      " 2   Rating          9367 non-null   float64\n",
      " 3   Reviews         10841 non-null  object \n",
      " 4   Size            10841 non-null  object \n",
      " 5   Installs        10841 non-null  object \n",
      " 6   Type            10840 non-null  object \n",
      " 7   Price           10841 non-null  object \n",
      " 8   Content Rating  10840 non-null  object \n",
      " 9   Genres          10841 non-null  object \n",
      " 10  Last Updated    10841 non-null  object \n",
      " 11  Current Ver     10833 non-null  object \n",
      " 12  Android Ver     10838 non-null  object \n",
      "dtypes: float64(1), object(12)\n",
      "memory usage: 1.1+ MB\n"
     ]
    }
   ],
   "source": [
    "df.info()"
   ]
  },
  {
   "cell_type": "code",
   "execution_count": 4,
   "id": "0274f4ff",
   "metadata": {
    "execution": {
     "iopub.execute_input": "2025-09-05T14:45:19.933677Z",
     "iopub.status.busy": "2025-09-05T14:45:19.933319Z",
     "iopub.status.idle": "2025-09-05T14:45:19.957011Z",
     "shell.execute_reply": "2025-09-05T14:45:19.956133Z"
    },
    "papermill": {
     "duration": 0.037635,
     "end_time": "2025-09-05T14:45:19.958776",
     "exception": false,
     "start_time": "2025-09-05T14:45:19.921141",
     "status": "completed"
    },
    "tags": []
   },
   "outputs": [
    {
     "data": {
      "text/html": [
       "<div>\n",
       "<style scoped>\n",
       "    .dataframe tbody tr th:only-of-type {\n",
       "        vertical-align: middle;\n",
       "    }\n",
       "\n",
       "    .dataframe tbody tr th {\n",
       "        vertical-align: top;\n",
       "    }\n",
       "\n",
       "    .dataframe thead th {\n",
       "        text-align: right;\n",
       "    }\n",
       "</style>\n",
       "<table border=\"1\" class=\"dataframe\">\n",
       "  <thead>\n",
       "    <tr style=\"text-align: right;\">\n",
       "      <th></th>\n",
       "      <th>Rating</th>\n",
       "    </tr>\n",
       "  </thead>\n",
       "  <tbody>\n",
       "    <tr>\n",
       "      <th>count</th>\n",
       "      <td>9367.000000</td>\n",
       "    </tr>\n",
       "    <tr>\n",
       "      <th>mean</th>\n",
       "      <td>4.193338</td>\n",
       "    </tr>\n",
       "    <tr>\n",
       "      <th>std</th>\n",
       "      <td>0.537431</td>\n",
       "    </tr>\n",
       "    <tr>\n",
       "      <th>min</th>\n",
       "      <td>1.000000</td>\n",
       "    </tr>\n",
       "    <tr>\n",
       "      <th>25%</th>\n",
       "      <td>4.000000</td>\n",
       "    </tr>\n",
       "    <tr>\n",
       "      <th>50%</th>\n",
       "      <td>4.300000</td>\n",
       "    </tr>\n",
       "    <tr>\n",
       "      <th>75%</th>\n",
       "      <td>4.500000</td>\n",
       "    </tr>\n",
       "    <tr>\n",
       "      <th>max</th>\n",
       "      <td>19.000000</td>\n",
       "    </tr>\n",
       "  </tbody>\n",
       "</table>\n",
       "</div>"
      ],
      "text/plain": [
       "            Rating\n",
       "count  9367.000000\n",
       "mean      4.193338\n",
       "std       0.537431\n",
       "min       1.000000\n",
       "25%       4.000000\n",
       "50%       4.300000\n",
       "75%       4.500000\n",
       "max      19.000000"
      ]
     },
     "execution_count": 4,
     "metadata": {},
     "output_type": "execute_result"
    }
   ],
   "source": [
    "df.describe()"
   ]
  },
  {
   "cell_type": "markdown",
   "id": "befbf589",
   "metadata": {
    "papermill": {
     "duration": 0.009528,
     "end_time": "2025-09-05T14:45:19.978425",
     "exception": false,
     "start_time": "2025-09-05T14:45:19.968897",
     "status": "completed"
    },
    "tags": []
   },
   "source": [
    "Some ratings are more than 5 (Needs to be handled)"
   ]
  },
  {
   "cell_type": "code",
   "execution_count": 5,
   "id": "6e72d807",
   "metadata": {
    "execution": {
     "iopub.execute_input": "2025-09-05T14:45:20.000375Z",
     "iopub.status.busy": "2025-09-05T14:45:20.000025Z",
     "iopub.status.idle": "2025-09-05T14:45:20.018495Z",
     "shell.execute_reply": "2025-09-05T14:45:20.017400Z"
    },
    "papermill": {
     "duration": 0.03104,
     "end_time": "2025-09-05T14:45:20.020201",
     "exception": false,
     "start_time": "2025-09-05T14:45:19.989161",
     "status": "completed"
    },
    "tags": []
   },
   "outputs": [
    {
     "name": "stderr",
     "output_type": "stream",
     "text": [
      "/usr/local/lib/python3.11/dist-packages/pandas/core/computation/expressions.py:73: RuntimeWarning: invalid value encountered in greater\n",
      "  return op(a, b)\n"
     ]
    },
    {
     "data": {
      "text/html": [
       "<div>\n",
       "<style scoped>\n",
       "    .dataframe tbody tr th:only-of-type {\n",
       "        vertical-align: middle;\n",
       "    }\n",
       "\n",
       "    .dataframe tbody tr th {\n",
       "        vertical-align: top;\n",
       "    }\n",
       "\n",
       "    .dataframe thead th {\n",
       "        text-align: right;\n",
       "    }\n",
       "</style>\n",
       "<table border=\"1\" class=\"dataframe\">\n",
       "  <thead>\n",
       "    <tr style=\"text-align: right;\">\n",
       "      <th></th>\n",
       "      <th>App</th>\n",
       "      <th>Category</th>\n",
       "      <th>Rating</th>\n",
       "      <th>Reviews</th>\n",
       "      <th>Size</th>\n",
       "      <th>Installs</th>\n",
       "      <th>Type</th>\n",
       "      <th>Price</th>\n",
       "      <th>Content Rating</th>\n",
       "      <th>Genres</th>\n",
       "      <th>Last Updated</th>\n",
       "      <th>Current Ver</th>\n",
       "      <th>Android Ver</th>\n",
       "    </tr>\n",
       "  </thead>\n",
       "  <tbody>\n",
       "    <tr>\n",
       "      <th>10472</th>\n",
       "      <td>Life Made WI-Fi Touchscreen Photo Frame</td>\n",
       "      <td>1.9</td>\n",
       "      <td>19.0</td>\n",
       "      <td>3.0M</td>\n",
       "      <td>1,000+</td>\n",
       "      <td>Free</td>\n",
       "      <td>0</td>\n",
       "      <td>Everyone</td>\n",
       "      <td>NaN</td>\n",
       "      <td>February 11, 2018</td>\n",
       "      <td>1.0.19</td>\n",
       "      <td>4.0 and up</td>\n",
       "      <td>NaN</td>\n",
       "    </tr>\n",
       "  </tbody>\n",
       "</table>\n",
       "</div>"
      ],
      "text/plain": [
       "                                           App Category  Rating Reviews  \\\n",
       "10472  Life Made WI-Fi Touchscreen Photo Frame      1.9    19.0    3.0M   \n",
       "\n",
       "         Size Installs Type     Price Content Rating             Genres  \\\n",
       "10472  1,000+     Free    0  Everyone            NaN  February 11, 2018   \n",
       "\n",
       "      Last Updated Current Ver Android Ver  \n",
       "10472       1.0.19  4.0 and up         NaN  "
      ]
     },
     "execution_count": 5,
     "metadata": {},
     "output_type": "execute_result"
    }
   ],
   "source": [
    "df[df.Rating>5]"
   ]
  },
  {
   "cell_type": "code",
   "execution_count": 6,
   "id": "7c2a3101",
   "metadata": {
    "execution": {
     "iopub.execute_input": "2025-09-05T14:45:20.042386Z",
     "iopub.status.busy": "2025-09-05T14:45:20.042073Z",
     "iopub.status.idle": "2025-09-05T14:45:20.052380Z",
     "shell.execute_reply": "2025-09-05T14:45:20.051263Z"
    },
    "papermill": {
     "duration": 0.02313,
     "end_time": "2025-09-05T14:45:20.053992",
     "exception": false,
     "start_time": "2025-09-05T14:45:20.030862",
     "status": "completed"
    },
    "tags": []
   },
   "outputs": [
    {
     "name": "stderr",
     "output_type": "stream",
     "text": [
      "/usr/local/lib/python3.11/dist-packages/pandas/core/computation/expressions.py:73: RuntimeWarning: invalid value encountered in greater\n",
      "  return op(a, b)\n"
     ]
    }
   ],
   "source": [
    "df[df['Rating']>5]=df.Rating.median()"
   ]
  },
  {
   "cell_type": "code",
   "execution_count": 7,
   "id": "2e2e6bf6",
   "metadata": {
    "execution": {
     "iopub.execute_input": "2025-09-05T14:45:20.077078Z",
     "iopub.status.busy": "2025-09-05T14:45:20.076769Z",
     "iopub.status.idle": "2025-09-05T14:45:20.090557Z",
     "shell.execute_reply": "2025-09-05T14:45:20.089524Z"
    },
    "papermill": {
     "duration": 0.026584,
     "end_time": "2025-09-05T14:45:20.092132",
     "exception": false,
     "start_time": "2025-09-05T14:45:20.065548",
     "status": "completed"
    },
    "tags": []
   },
   "outputs": [
    {
     "data": {
      "text/html": [
       "<div>\n",
       "<style scoped>\n",
       "    .dataframe tbody tr th:only-of-type {\n",
       "        vertical-align: middle;\n",
       "    }\n",
       "\n",
       "    .dataframe tbody tr th {\n",
       "        vertical-align: top;\n",
       "    }\n",
       "\n",
       "    .dataframe thead th {\n",
       "        text-align: right;\n",
       "    }\n",
       "</style>\n",
       "<table border=\"1\" class=\"dataframe\">\n",
       "  <thead>\n",
       "    <tr style=\"text-align: right;\">\n",
       "      <th></th>\n",
       "      <th>Rating</th>\n",
       "    </tr>\n",
       "  </thead>\n",
       "  <tbody>\n",
       "    <tr>\n",
       "      <th>count</th>\n",
       "      <td>9367.000000</td>\n",
       "    </tr>\n",
       "    <tr>\n",
       "      <th>mean</th>\n",
       "      <td>4.191769</td>\n",
       "    </tr>\n",
       "    <tr>\n",
       "      <th>std</th>\n",
       "      <td>0.515193</td>\n",
       "    </tr>\n",
       "    <tr>\n",
       "      <th>min</th>\n",
       "      <td>1.000000</td>\n",
       "    </tr>\n",
       "    <tr>\n",
       "      <th>25%</th>\n",
       "      <td>4.000000</td>\n",
       "    </tr>\n",
       "    <tr>\n",
       "      <th>50%</th>\n",
       "      <td>4.300000</td>\n",
       "    </tr>\n",
       "    <tr>\n",
       "      <th>75%</th>\n",
       "      <td>4.500000</td>\n",
       "    </tr>\n",
       "    <tr>\n",
       "      <th>max</th>\n",
       "      <td>5.000000</td>\n",
       "    </tr>\n",
       "  </tbody>\n",
       "</table>\n",
       "</div>"
      ],
      "text/plain": [
       "            Rating\n",
       "count  9367.000000\n",
       "mean      4.191769\n",
       "std       0.515193\n",
       "min       1.000000\n",
       "25%       4.000000\n",
       "50%       4.300000\n",
       "75%       4.500000\n",
       "max       5.000000"
      ]
     },
     "execution_count": 7,
     "metadata": {},
     "output_type": "execute_result"
    }
   ],
   "source": [
    "df.describe()"
   ]
  },
  {
   "cell_type": "code",
   "execution_count": 8,
   "id": "40864bfc",
   "metadata": {
    "execution": {
     "iopub.execute_input": "2025-09-05T14:45:20.116147Z",
     "iopub.status.busy": "2025-09-05T14:45:20.115824Z",
     "iopub.status.idle": "2025-09-05T14:45:20.123444Z",
     "shell.execute_reply": "2025-09-05T14:45:20.122548Z"
    },
    "papermill": {
     "duration": 0.02151,
     "end_time": "2025-09-05T14:45:20.125061",
     "exception": false,
     "start_time": "2025-09-05T14:45:20.103551",
     "status": "completed"
    },
    "tags": []
   },
   "outputs": [
    {
     "data": {
      "text/plain": [
       "0                       19M\n",
       "1                       14M\n",
       "2                      8.7M\n",
       "3                       25M\n",
       "4                      2.8M\n",
       "                ...        \n",
       "10836                   53M\n",
       "10837                  3.6M\n",
       "10838                  9.5M\n",
       "10839    Varies with device\n",
       "10840                   19M\n",
       "Name: Size, Length: 10841, dtype: object"
      ]
     },
     "execution_count": 8,
     "metadata": {},
     "output_type": "execute_result"
    }
   ],
   "source": [
    "df.Size"
   ]
  },
  {
   "cell_type": "code",
   "execution_count": 9,
   "id": "907e8ea7",
   "metadata": {
    "execution": {
     "iopub.execute_input": "2025-09-05T14:45:20.148903Z",
     "iopub.status.busy": "2025-09-05T14:45:20.148572Z",
     "iopub.status.idle": "2025-09-05T14:45:20.161925Z",
     "shell.execute_reply": "2025-09-05T14:45:20.160904Z"
    },
    "papermill": {
     "duration": 0.027527,
     "end_time": "2025-09-05T14:45:20.163667",
     "exception": false,
     "start_time": "2025-09-05T14:45:20.136140",
     "status": "completed"
    },
    "tags": []
   },
   "outputs": [],
   "source": [
    "\n",
    "\n",
    "def size_to_mb(size):\n",
    "    try:\n",
    "        size = str(size)\n",
    "        if size.endswith('M'):\n",
    "            return float(size[:-1])\n",
    "        elif size.endswith('K'):\n",
    "            return float(size[:-1]) / 1024\n",
    "        elif size.endswith('G'):\n",
    "            return float(size[:-1]) * 1024\n",
    "        else:\n",
    "            # Non-numeric or unknown sizes\n",
    "            return np.nan\n",
    "    except:\n",
    "        return np.nan\n",
    "\n",
    "df['Size_MB'] = df['Size'].apply(size_to_mb)\n"
   ]
  },
  {
   "cell_type": "code",
   "execution_count": 10,
   "id": "56ab53a9",
   "metadata": {
    "execution": {
     "iopub.execute_input": "2025-09-05T14:45:20.186276Z",
     "iopub.status.busy": "2025-09-05T14:45:20.185452Z",
     "iopub.status.idle": "2025-09-05T14:45:20.195543Z",
     "shell.execute_reply": "2025-09-05T14:45:20.194650Z"
    },
    "papermill": {
     "duration": 0.023031,
     "end_time": "2025-09-05T14:45:20.197317",
     "exception": false,
     "start_time": "2025-09-05T14:45:20.174286",
     "status": "completed"
    },
    "tags": []
   },
   "outputs": [
    {
     "data": {
      "text/plain": [
       "count    8829.000000\n",
       "mean       22.270540\n",
       "std        22.628691\n",
       "min         1.000000\n",
       "25%         5.400000\n",
       "50%        14.000000\n",
       "75%        31.000000\n",
       "max       100.000000\n",
       "Name: Size_MB, dtype: float64"
      ]
     },
     "execution_count": 10,
     "metadata": {},
     "output_type": "execute_result"
    }
   ],
   "source": [
    "df.Size_MB.describe()"
   ]
  },
  {
   "cell_type": "code",
   "execution_count": 11,
   "id": "facf2a39",
   "metadata": {
    "execution": {
     "iopub.execute_input": "2025-09-05T14:45:20.219980Z",
     "iopub.status.busy": "2025-09-05T14:45:20.219662Z",
     "iopub.status.idle": "2025-09-05T14:45:20.455430Z",
     "shell.execute_reply": "2025-09-05T14:45:20.454287Z"
    },
    "papermill": {
     "duration": 0.248909,
     "end_time": "2025-09-05T14:45:20.457195",
     "exception": false,
     "start_time": "2025-09-05T14:45:20.208286",
     "status": "completed"
    },
    "tags": []
   },
   "outputs": [
    {
     "data": {
      "text/plain": [
       "<Axes: >"
      ]
     },
     "execution_count": 11,
     "metadata": {},
     "output_type": "execute_result"
    },
    {
     "data": {
      "image/png": "[encoded data removed]",
      "text/plain": [
       "<Figure size 640x480 with 1 Axes>"
      ]
     },
     "metadata": {},
     "output_type": "display_data"
    }
   ],
   "source": [
    "sns.boxplot(df.Size_MB)"
   ]
  },
  {
   "cell_type": "code",
   "execution_count": 12,
   "id": "8da27d5f",
   "metadata": {
    "execution": {
     "iopub.execute_input": "2025-09-05T14:45:20.480788Z",
     "iopub.status.busy": "2025-09-05T14:45:20.480405Z",
     "iopub.status.idle": "2025-09-05T14:45:20.501052Z",
     "shell.execute_reply": "2025-09-05T14:45:20.499952Z"
    },
    "papermill": {
     "duration": 0.034196,
     "end_time": "2025-09-05T14:45:20.502793",
     "exception": false,
     "start_time": "2025-09-05T14:45:20.468597",
     "status": "completed"
    },
    "tags": []
   },
   "outputs": [
    {
     "name": "stderr",
     "output_type": "stream",
     "text": [
      "/usr/local/lib/python3.11/dist-packages/pandas/core/computation/expressions.py:73: RuntimeWarning: invalid value encountered in greater\n",
      "  return op(a, b)\n",
      "/usr/local/lib/python3.11/dist-packages/pandas/io/formats/format.py:1458: RuntimeWarning: invalid value encountered in greater\n",
      "  has_large_values = (abs_vals > 1e6).any()\n",
      "/usr/local/lib/python3.11/dist-packages/pandas/io/formats/format.py:1459: RuntimeWarning: invalid value encountered in less\n",
      "  has_small_values = ((abs_vals < 10 ** (-self.digits)) & (abs_vals > 0)).any()\n",
      "/usr/local/lib/python3.11/dist-packages/pandas/io/formats/format.py:1459: RuntimeWarning: invalid value encountered in greater\n",
      "  has_small_values = ((abs_vals < 10 ** (-self.digits)) & (abs_vals > 0)).any()\n"
     ]
    },
    {
     "data": {
      "text/html": [
       "<div>\n",
       "<style scoped>\n",
       "    .dataframe tbody tr th:only-of-type {\n",
       "        vertical-align: middle;\n",
       "    }\n",
       "\n",
       "    .dataframe tbody tr th {\n",
       "        vertical-align: top;\n",
       "    }\n",
       "\n",
       "    .dataframe thead th {\n",
       "        text-align: right;\n",
       "    }\n",
       "</style>\n",
       "<table border=\"1\" class=\"dataframe\">\n",
       "  <thead>\n",
       "    <tr style=\"text-align: right;\">\n",
       "      <th></th>\n",
       "      <th>App</th>\n",
       "      <th>Category</th>\n",
       "      <th>Rating</th>\n",
       "      <th>Reviews</th>\n",
       "      <th>Size</th>\n",
       "      <th>Installs</th>\n",
       "      <th>Type</th>\n",
       "      <th>Price</th>\n",
       "      <th>Content Rating</th>\n",
       "      <th>Genres</th>\n",
       "      <th>Last Updated</th>\n",
       "      <th>Current Ver</th>\n",
       "      <th>Android Ver</th>\n",
       "      <th>Size_MB</th>\n",
       "    </tr>\n",
       "  </thead>\n",
       "  <tbody>\n",
       "    <tr>\n",
       "      <th>50</th>\n",
       "      <td>Real Tractor Farming</td>\n",
       "      <td>AUTO_AND_VEHICLES</td>\n",
       "      <td>4.0</td>\n",
       "      <td>1598</td>\n",
       "      <td>56M</td>\n",
       "      <td>1,000,000+</td>\n",
       "      <td>Free</td>\n",
       "      <td>0</td>\n",
       "      <td>Everyone</td>\n",
       "      <td>Auto &amp; Vehicles</td>\n",
       "      <td>July 26, 2018</td>\n",
       "      <td>11.0</td>\n",
       "      <td>4.1 and up</td>\n",
       "      <td>56.0</td>\n",
       "    </tr>\n",
       "    <tr>\n",
       "      <th>51</th>\n",
       "      <td>Ultimate F1 Racing Championship</td>\n",
       "      <td>AUTO_AND_VEHICLES</td>\n",
       "      <td>3.8</td>\n",
       "      <td>284</td>\n",
       "      <td>57M</td>\n",
       "      <td>100,000+</td>\n",
       "      <td>Free</td>\n",
       "      <td>0</td>\n",
       "      <td>Everyone</td>\n",
       "      <td>Auto &amp; Vehicles</td>\n",
       "      <td>July 26, 2018</td>\n",
       "      <td>3.0</td>\n",
       "      <td>4.1 and up</td>\n",
       "      <td>57.0</td>\n",
       "    </tr>\n",
       "    <tr>\n",
       "      <th>57</th>\n",
       "      <td>Extreme Rally Championship</td>\n",
       "      <td>AUTO_AND_VEHICLES</td>\n",
       "      <td>4.2</td>\n",
       "      <td>129</td>\n",
       "      <td>54M</td>\n",
       "      <td>100,000+</td>\n",
       "      <td>Free</td>\n",
       "      <td>0</td>\n",
       "      <td>Everyone</td>\n",
       "      <td>Auto &amp; Vehicles</td>\n",
       "      <td>July 26, 2018</td>\n",
       "      <td>3.0</td>\n",
       "      <td>4.1 and up</td>\n",
       "      <td>54.0</td>\n",
       "    </tr>\n",
       "    <tr>\n",
       "      <th>103</th>\n",
       "      <td>Beauty Selfie Camera</td>\n",
       "      <td>BEAUTY</td>\n",
       "      <td>4.2</td>\n",
       "      <td>2225</td>\n",
       "      <td>52M</td>\n",
       "      <td>500,000+</td>\n",
       "      <td>Free</td>\n",
       "      <td>0</td>\n",
       "      <td>Everyone</td>\n",
       "      <td>Beauty</td>\n",
       "      <td>February 28, 2018</td>\n",
       "      <td>1.6</td>\n",
       "      <td>4.1 and up</td>\n",
       "      <td>52.0</td>\n",
       "    </tr>\n",
       "    <tr>\n",
       "      <th>122</th>\n",
       "      <td>Sephora: Skin Care, Beauty Makeup &amp; Fragrance ...</td>\n",
       "      <td>BEAUTY</td>\n",
       "      <td>4.5</td>\n",
       "      <td>26834</td>\n",
       "      <td>57M</td>\n",
       "      <td>1,000,000+</td>\n",
       "      <td>Free</td>\n",
       "      <td>0</td>\n",
       "      <td>Everyone</td>\n",
       "      <td>Beauty</td>\n",
       "      <td>July 24, 2018</td>\n",
       "      <td>18.5</td>\n",
       "      <td>5.0 and up</td>\n",
       "      <td>57.0</td>\n",
       "    </tr>\n",
       "    <tr>\n",
       "      <th>...</th>\n",
       "      <td>...</td>\n",
       "      <td>...</td>\n",
       "      <td>...</td>\n",
       "      <td>...</td>\n",
       "      <td>...</td>\n",
       "      <td>...</td>\n",
       "      <td>...</td>\n",
       "      <td>...</td>\n",
       "      <td>...</td>\n",
       "      <td>...</td>\n",
       "      <td>...</td>\n",
       "      <td>...</td>\n",
       "      <td>...</td>\n",
       "      <td>...</td>\n",
       "    </tr>\n",
       "    <tr>\n",
       "      <th>10784</th>\n",
       "      <td>Big Hunter</td>\n",
       "      <td>GAME</td>\n",
       "      <td>4.3</td>\n",
       "      <td>245455</td>\n",
       "      <td>84M</td>\n",
       "      <td>10,000,000+</td>\n",
       "      <td>Free</td>\n",
       "      <td>0</td>\n",
       "      <td>Everyone 10+</td>\n",
       "      <td>Action</td>\n",
       "      <td>May 31, 2018</td>\n",
       "      <td>2.8.6</td>\n",
       "      <td>4.0 and up</td>\n",
       "      <td>84.0</td>\n",
       "    </tr>\n",
       "    <tr>\n",
       "      <th>10793</th>\n",
       "      <td>Sid Story</td>\n",
       "      <td>GAME</td>\n",
       "      <td>4.4</td>\n",
       "      <td>28510</td>\n",
       "      <td>78M</td>\n",
       "      <td>500,000+</td>\n",
       "      <td>Free</td>\n",
       "      <td>0</td>\n",
       "      <td>Teen</td>\n",
       "      <td>Card</td>\n",
       "      <td>August 1, 2018</td>\n",
       "      <td>2.6.6</td>\n",
       "      <td>4.0.3 and up</td>\n",
       "      <td>78.0</td>\n",
       "    </tr>\n",
       "    <tr>\n",
       "      <th>10803</th>\n",
       "      <td>Fatal Raid - No.1 Mobile FPS</td>\n",
       "      <td>GAME</td>\n",
       "      <td>4.3</td>\n",
       "      <td>56496</td>\n",
       "      <td>81M</td>\n",
       "      <td>1,000,000+</td>\n",
       "      <td>Free</td>\n",
       "      <td>0</td>\n",
       "      <td>Teen</td>\n",
       "      <td>Action</td>\n",
       "      <td>August 7, 2018</td>\n",
       "      <td>1.5.447</td>\n",
       "      <td>4.0 and up</td>\n",
       "      <td>81.0</td>\n",
       "    </tr>\n",
       "    <tr>\n",
       "      <th>10824</th>\n",
       "      <td>Cardio-FR</td>\n",
       "      <td>MEDICAL</td>\n",
       "      <td>NaN</td>\n",
       "      <td>67</td>\n",
       "      <td>82M</td>\n",
       "      <td>10,000+</td>\n",
       "      <td>Free</td>\n",
       "      <td>0</td>\n",
       "      <td>Everyone</td>\n",
       "      <td>Medical</td>\n",
       "      <td>July 31, 2018</td>\n",
       "      <td>2.2.2</td>\n",
       "      <td>4.4 and up</td>\n",
       "      <td>82.0</td>\n",
       "    </tr>\n",
       "    <tr>\n",
       "      <th>10836</th>\n",
       "      <td>Sya9a Maroc - FR</td>\n",
       "      <td>FAMILY</td>\n",
       "      <td>4.5</td>\n",
       "      <td>38</td>\n",
       "      <td>53M</td>\n",
       "      <td>5,000+</td>\n",
       "      <td>Free</td>\n",
       "      <td>0</td>\n",
       "      <td>Everyone</td>\n",
       "      <td>Education</td>\n",
       "      <td>July 25, 2017</td>\n",
       "      <td>1.48</td>\n",
       "      <td>4.1 and up</td>\n",
       "      <td>53.0</td>\n",
       "    </tr>\n",
       "  </tbody>\n",
       "</table>\n",
       "<p>1074 rows × 14 columns</p>\n",
       "</div>"
      ],
      "text/plain": [
       "                                                     App           Category  \\\n",
       "50                                  Real Tractor Farming  AUTO_AND_VEHICLES   \n",
       "51                       Ultimate F1 Racing Championship  AUTO_AND_VEHICLES   \n",
       "57                            Extreme Rally Championship  AUTO_AND_VEHICLES   \n",
       "103                                 Beauty Selfie Camera             BEAUTY   \n",
       "122    Sephora: Skin Care, Beauty Makeup & Fragrance ...             BEAUTY   \n",
       "...                                                  ...                ...   \n",
       "10784                                         Big Hunter               GAME   \n",
       "10793                                          Sid Story               GAME   \n",
       "10803                       Fatal Raid - No.1 Mobile FPS               GAME   \n",
       "10824                                          Cardio-FR            MEDICAL   \n",
       "10836                                   Sya9a Maroc - FR             FAMILY   \n",
       "\n",
       "       Rating Reviews Size     Installs  Type Price Content Rating  \\\n",
       "50        4.0    1598  56M   1,000,000+  Free     0       Everyone   \n",
       "51        3.8     284  57M     100,000+  Free     0       Everyone   \n",
       "57        4.2     129  54M     100,000+  Free     0       Everyone   \n",
       "103       4.2    2225  52M     500,000+  Free     0       Everyone   \n",
       "122       4.5   26834  57M   1,000,000+  Free     0       Everyone   \n",
       "...       ...     ...  ...          ...   ...   ...            ...   \n",
       "10784     4.3  245455  84M  10,000,000+  Free     0   Everyone 10+   \n",
       "10793     4.4   28510  78M     500,000+  Free     0           Teen   \n",
       "10803     4.3   56496  81M   1,000,000+  Free     0           Teen   \n",
       "10824     NaN      67  82M      10,000+  Free     0       Everyone   \n",
       "10836     4.5      38  53M       5,000+  Free     0       Everyone   \n",
       "\n",
       "                Genres       Last Updated Current Ver   Android Ver  Size_MB  \n",
       "50     Auto & Vehicles      July 26, 2018        11.0    4.1 and up     56.0  \n",
       "51     Auto & Vehicles      July 26, 2018         3.0    4.1 and up     57.0  \n",
       "57     Auto & Vehicles      July 26, 2018         3.0    4.1 and up     54.0  \n",
       "103             Beauty  February 28, 2018         1.6    4.1 and up     52.0  \n",
       "122             Beauty      July 24, 2018        18.5    5.0 and up     57.0  \n",
       "...                ...                ...         ...           ...      ...  \n",
       "10784           Action       May 31, 2018       2.8.6    4.0 and up     84.0  \n",
       "10793             Card     August 1, 2018       2.6.6  4.0.3 and up     78.0  \n",
       "10803           Action     August 7, 2018     1.5.447    4.0 and up     81.0  \n",
       "10824          Medical      July 31, 2018       2.2.2    4.4 and up     82.0  \n",
       "10836        Education      July 25, 2017        1.48    4.1 and up     53.0  \n",
       "\n",
       "[1074 rows x 14 columns]"
      ]
     },
     "execution_count": 12,
     "metadata": {},
     "output_type": "execute_result"
    }
   ],
   "source": [
    "df[df.Size_MB > 50]"
   ]
  },
  {
   "cell_type": "markdown",
   "id": "21a7a8b1",
   "metadata": {
    "papermill": {
     "duration": 0.01165,
     "end_time": "2025-09-05T14:45:20.525912",
     "exception": false,
     "start_time": "2025-09-05T14:45:20.514262",
     "status": "completed"
    },
    "tags": []
   },
   "source": [
    "### Looks normal"
   ]
  },
  {
   "cell_type": "code",
   "execution_count": 13,
   "id": "82190461",
   "metadata": {
    "execution": {
     "iopub.execute_input": "2025-09-05T14:45:20.617894Z",
     "iopub.status.busy": "2025-09-05T14:45:20.617611Z",
     "iopub.status.idle": "2025-09-05T14:45:20.629207Z",
     "shell.execute_reply": "2025-09-05T14:45:20.628219Z"
    },
    "papermill": {
     "duration": 0.025903,
     "end_time": "2025-09-05T14:45:20.630875",
     "exception": false,
     "start_time": "2025-09-05T14:45:20.604972",
     "status": "completed"
    },
    "tags": []
   },
   "outputs": [],
   "source": [
    "# Now lets fix prices\n",
    "def prices_to_float(price_str):\n",
    "    try:\n",
    "        price = str(price_str).replace('$', '').replace(',', '')\n",
    "        return float(price)\n",
    "    except:\n",
    "        return np.nan\n",
    "\n",
    "df['Price'] = df['Price'].apply(prices_to_float)\n"
   ]
  },
  {
   "cell_type": "code",
   "execution_count": 14,
   "id": "4014654e",
   "metadata": {
    "execution": {
     "iopub.execute_input": "2025-09-05T14:45:20.656318Z",
     "iopub.status.busy": "2025-09-05T14:45:20.655989Z",
     "iopub.status.idle": "2025-09-05T14:45:20.666240Z",
     "shell.execute_reply": "2025-09-05T14:45:20.664914Z"
    },
    "papermill": {
     "duration": 0.024395,
     "end_time": "2025-09-05T14:45:20.668127",
     "exception": false,
     "start_time": "2025-09-05T14:45:20.643732",
     "status": "completed"
    },
    "tags": []
   },
   "outputs": [
    {
     "data": {
      "text/plain": [
       "count    10841.000000\n",
       "mean         1.027670\n",
       "std         15.948999\n",
       "min          0.000000\n",
       "25%          0.000000\n",
       "50%          0.000000\n",
       "75%          0.000000\n",
       "max        400.000000\n",
       "Name: Price, dtype: float64"
      ]
     },
     "execution_count": 14,
     "metadata": {},
     "output_type": "execute_result"
    }
   ],
   "source": [
    "df.Price.describe()"
   ]
  },
  {
   "cell_type": "code",
   "execution_count": 15,
   "id": "57282056",
   "metadata": {
    "execution": {
     "iopub.execute_input": "2025-09-05T14:45:20.693522Z",
     "iopub.status.busy": "2025-09-05T14:45:20.693172Z",
     "iopub.status.idle": "2025-09-05T14:45:20.812320Z",
     "shell.execute_reply": "2025-09-05T14:45:20.811414Z"
    },
    "papermill": {
     "duration": 0.133552,
     "end_time": "2025-09-05T14:45:20.813977",
     "exception": false,
     "start_time": "2025-09-05T14:45:20.680425",
     "status": "completed"
    },
    "tags": []
   },
   "outputs": [
    {
     "data": {
      "image/png": "[encoded data removed]",
      "text/plain": [
       "<Figure size 640x480 with 1 Axes>"
      ]
     },
     "metadata": {},
     "output_type": "display_data"
    }
   ],
   "source": [
    "sns.boxplot(df.Price)\n",
    "plt.show()"
   ]
  },
  {
   "cell_type": "markdown",
   "id": "942311dc",
   "metadata": {
    "papermill": {
     "duration": 0.011772,
     "end_time": "2025-09-05T14:45:20.837746",
     "exception": false,
     "start_time": "2025-09-05T14:45:20.825974",
     "status": "completed"
    },
    "tags": []
   },
   "source": [
    "### As we can see some prices are high"
   ]
  },
  {
   "cell_type": "code",
   "execution_count": 16,
   "id": "e55661a6",
   "metadata": {
    "execution": {
     "iopub.execute_input": "2025-09-05T14:45:20.864366Z",
     "iopub.status.busy": "2025-09-05T14:45:20.864030Z",
     "iopub.status.idle": "2025-09-05T14:45:20.888375Z",
     "shell.execute_reply": "2025-09-05T14:45:20.887544Z"
    },
    "papermill": {
     "duration": 0.040286,
     "end_time": "2025-09-05T14:45:20.889903",
     "exception": false,
     "start_time": "2025-09-05T14:45:20.849617",
     "status": "completed"
    },
    "tags": []
   },
   "outputs": [
    {
     "name": "stderr",
     "output_type": "stream",
     "text": [
      "/usr/local/lib/python3.11/dist-packages/pandas/io/formats/format.py:1458: RuntimeWarning: invalid value encountered in greater\n",
      "  has_large_values = (abs_vals > 1e6).any()\n",
      "/usr/local/lib/python3.11/dist-packages/pandas/io/formats/format.py:1459: RuntimeWarning: invalid value encountered in less\n",
      "  has_small_values = ((abs_vals < 10 ** (-self.digits)) & (abs_vals > 0)).any()\n",
      "/usr/local/lib/python3.11/dist-packages/pandas/io/formats/format.py:1459: RuntimeWarning: invalid value encountered in greater\n",
      "  has_small_values = ((abs_vals < 10 ** (-self.digits)) & (abs_vals > 0)).any()\n"
     ]
    },
    {
     "data": {
      "text/html": [
       "<div>\n",
       "<style scoped>\n",
       "    .dataframe tbody tr th:only-of-type {\n",
       "        vertical-align: middle;\n",
       "    }\n",
       "\n",
       "    .dataframe tbody tr th {\n",
       "        vertical-align: top;\n",
       "    }\n",
       "\n",
       "    .dataframe thead th {\n",
       "        text-align: right;\n",
       "    }\n",
       "</style>\n",
       "<table border=\"1\" class=\"dataframe\">\n",
       "  <thead>\n",
       "    <tr style=\"text-align: right;\">\n",
       "      <th></th>\n",
       "      <th>App</th>\n",
       "      <th>Category</th>\n",
       "      <th>Rating</th>\n",
       "      <th>Reviews</th>\n",
       "      <th>Size</th>\n",
       "      <th>Installs</th>\n",
       "      <th>Type</th>\n",
       "      <th>Price</th>\n",
       "      <th>Content Rating</th>\n",
       "      <th>Genres</th>\n",
       "      <th>Last Updated</th>\n",
       "      <th>Current Ver</th>\n",
       "      <th>Android Ver</th>\n",
       "      <th>Size_MB</th>\n",
       "    </tr>\n",
       "  </thead>\n",
       "  <tbody>\n",
       "    <tr>\n",
       "      <th>4367</th>\n",
       "      <td>I'm Rich - Trump Edition</td>\n",
       "      <td>LIFESTYLE</td>\n",
       "      <td>3.6</td>\n",
       "      <td>275</td>\n",
       "      <td>7.3M</td>\n",
       "      <td>10,000+</td>\n",
       "      <td>Paid</td>\n",
       "      <td>400.00</td>\n",
       "      <td>Everyone</td>\n",
       "      <td>Lifestyle</td>\n",
       "      <td>May 3, 2018</td>\n",
       "      <td>1.0.1</td>\n",
       "      <td>4.1 and up</td>\n",
       "      <td>7.3</td>\n",
       "    </tr>\n",
       "    <tr>\n",
       "      <th>5364</th>\n",
       "      <td>I am rich (Most expensive app)</td>\n",
       "      <td>FINANCE</td>\n",
       "      <td>4.1</td>\n",
       "      <td>129</td>\n",
       "      <td>2.7M</td>\n",
       "      <td>1,000+</td>\n",
       "      <td>Paid</td>\n",
       "      <td>399.99</td>\n",
       "      <td>Teen</td>\n",
       "      <td>Finance</td>\n",
       "      <td>December 6, 2017</td>\n",
       "      <td>2</td>\n",
       "      <td>4.0.3 and up</td>\n",
       "      <td>2.7</td>\n",
       "    </tr>\n",
       "    <tr>\n",
       "      <th>5354</th>\n",
       "      <td>I am Rich Plus</td>\n",
       "      <td>FAMILY</td>\n",
       "      <td>4.0</td>\n",
       "      <td>856</td>\n",
       "      <td>8.7M</td>\n",
       "      <td>10,000+</td>\n",
       "      <td>Paid</td>\n",
       "      <td>399.99</td>\n",
       "      <td>Everyone</td>\n",
       "      <td>Entertainment</td>\n",
       "      <td>May 19, 2018</td>\n",
       "      <td>3.0</td>\n",
       "      <td>4.4 and up</td>\n",
       "      <td>8.7</td>\n",
       "    </tr>\n",
       "    <tr>\n",
       "      <th>9719</th>\n",
       "      <td>EP Cook Book</td>\n",
       "      <td>MEDICAL</td>\n",
       "      <td>NaN</td>\n",
       "      <td>0</td>\n",
       "      <td>3.2M</td>\n",
       "      <td>0+</td>\n",
       "      <td>Paid</td>\n",
       "      <td>200.00</td>\n",
       "      <td>Everyone</td>\n",
       "      <td>Medical</td>\n",
       "      <td>July 26, 2015</td>\n",
       "      <td>1.0</td>\n",
       "      <td>3.0 and up</td>\n",
       "      <td>3.2</td>\n",
       "    </tr>\n",
       "    <tr>\n",
       "      <th>6692</th>\n",
       "      <td>cronometra-br</td>\n",
       "      <td>PRODUCTIVITY</td>\n",
       "      <td>NaN</td>\n",
       "      <td>0</td>\n",
       "      <td>5.4M</td>\n",
       "      <td>0+</td>\n",
       "      <td>Paid</td>\n",
       "      <td>154.99</td>\n",
       "      <td>Everyone</td>\n",
       "      <td>Productivity</td>\n",
       "      <td>November 24, 2017</td>\n",
       "      <td>1.0.0</td>\n",
       "      <td>4.1 and up</td>\n",
       "      <td>5.4</td>\n",
       "    </tr>\n",
       "    <tr>\n",
       "      <th>6624</th>\n",
       "      <td>BP Fitness Lead Scanner</td>\n",
       "      <td>EVENTS</td>\n",
       "      <td>NaN</td>\n",
       "      <td>0</td>\n",
       "      <td>6.7M</td>\n",
       "      <td>1+</td>\n",
       "      <td>Paid</td>\n",
       "      <td>109.99</td>\n",
       "      <td>Everyone</td>\n",
       "      <td>Events</td>\n",
       "      <td>August 23, 2017</td>\n",
       "      <td>0.0.1</td>\n",
       "      <td>4.1 and up</td>\n",
       "      <td>6.7</td>\n",
       "    </tr>\n",
       "    <tr>\n",
       "      <th>9730</th>\n",
       "      <td>Lean EQ</td>\n",
       "      <td>BUSINESS</td>\n",
       "      <td>NaN</td>\n",
       "      <td>6</td>\n",
       "      <td>10M</td>\n",
       "      <td>10+</td>\n",
       "      <td>Paid</td>\n",
       "      <td>89.99</td>\n",
       "      <td>Everyone</td>\n",
       "      <td>Business</td>\n",
       "      <td>February 14, 2017</td>\n",
       "      <td>1.0</td>\n",
       "      <td>4.1 and up</td>\n",
       "      <td>10.0</td>\n",
       "    </tr>\n",
       "    <tr>\n",
       "      <th>3039</th>\n",
       "      <td>Golfshot Plus: Golf GPS</td>\n",
       "      <td>SPORTS</td>\n",
       "      <td>4.1</td>\n",
       "      <td>3387</td>\n",
       "      <td>25M</td>\n",
       "      <td>50,000+</td>\n",
       "      <td>Paid</td>\n",
       "      <td>29.99</td>\n",
       "      <td>Everyone</td>\n",
       "      <td>Sports</td>\n",
       "      <td>July 11, 2018</td>\n",
       "      <td>4.18.0</td>\n",
       "      <td>4.1 and up</td>\n",
       "      <td>25.0</td>\n",
       "    </tr>\n",
       "    <tr>\n",
       "      <th>8328</th>\n",
       "      <td>Guide to Nikon Df</td>\n",
       "      <td>PHOTOGRAPHY</td>\n",
       "      <td>NaN</td>\n",
       "      <td>1</td>\n",
       "      <td>663k</td>\n",
       "      <td>10+</td>\n",
       "      <td>Paid</td>\n",
       "      <td>29.99</td>\n",
       "      <td>Everyone</td>\n",
       "      <td>Photography</td>\n",
       "      <td>February 18, 2014</td>\n",
       "      <td>2.0.0</td>\n",
       "      <td>4.0.3 and up</td>\n",
       "      <td>NaN</td>\n",
       "    </tr>\n",
       "    <tr>\n",
       "      <th>4177</th>\n",
       "      <td>G-NetReport Pro</td>\n",
       "      <td>TOOLS</td>\n",
       "      <td>NaN</td>\n",
       "      <td>0</td>\n",
       "      <td>1.6M</td>\n",
       "      <td>10+</td>\n",
       "      <td>Paid</td>\n",
       "      <td>25.99</td>\n",
       "      <td>Everyone</td>\n",
       "      <td>Tools</td>\n",
       "      <td>June 14, 2018</td>\n",
       "      <td>5.0</td>\n",
       "      <td>4.0 and up</td>\n",
       "      <td>1.6</td>\n",
       "    </tr>\n",
       "  </tbody>\n",
       "</table>\n",
       "</div>"
      ],
      "text/plain": [
       "                                 App      Category  Rating Reviews  Size  \\\n",
       "4367        I'm Rich - Trump Edition     LIFESTYLE     3.6     275  7.3M   \n",
       "5364  I am rich (Most expensive app)       FINANCE     4.1     129  2.7M   \n",
       "5354                  I am Rich Plus        FAMILY     4.0     856  8.7M   \n",
       "9719                    EP Cook Book       MEDICAL     NaN       0  3.2M   \n",
       "6692                   cronometra-br  PRODUCTIVITY     NaN       0  5.4M   \n",
       "6624         BP Fitness Lead Scanner        EVENTS     NaN       0  6.7M   \n",
       "9730                         Lean EQ      BUSINESS     NaN       6   10M   \n",
       "3039         Golfshot Plus: Golf GPS        SPORTS     4.1    3387   25M   \n",
       "8328               Guide to Nikon Df   PHOTOGRAPHY     NaN       1  663k   \n",
       "4177                 G-NetReport Pro         TOOLS     NaN       0  1.6M   \n",
       "\n",
       "     Installs  Type   Price Content Rating         Genres       Last Updated  \\\n",
       "4367  10,000+  Paid  400.00       Everyone      Lifestyle        May 3, 2018   \n",
       "5364   1,000+  Paid  399.99           Teen        Finance   December 6, 2017   \n",
       "5354  10,000+  Paid  399.99       Everyone  Entertainment       May 19, 2018   \n",
       "9719       0+  Paid  200.00       Everyone        Medical      July 26, 2015   \n",
       "6692       0+  Paid  154.99       Everyone   Productivity  November 24, 2017   \n",
       "6624       1+  Paid  109.99       Everyone         Events    August 23, 2017   \n",
       "9730      10+  Paid   89.99       Everyone       Business  February 14, 2017   \n",
       "3039  50,000+  Paid   29.99       Everyone         Sports      July 11, 2018   \n",
       "8328      10+  Paid   29.99       Everyone    Photography  February 18, 2014   \n",
       "4177      10+  Paid   25.99       Everyone          Tools      June 14, 2018   \n",
       "\n",
       "     Current Ver   Android Ver  Size_MB  \n",
       "4367       1.0.1    4.1 and up      7.3  \n",
       "5364           2  4.0.3 and up      2.7  \n",
       "5354         3.0    4.4 and up      8.7  \n",
       "9719         1.0    3.0 and up      3.2  \n",
       "6692       1.0.0    4.1 and up      5.4  \n",
       "6624       0.0.1    4.1 and up      6.7  \n",
       "9730         1.0    4.1 and up     10.0  \n",
       "3039      4.18.0    4.1 and up     25.0  \n",
       "8328       2.0.0  4.0.3 and up      NaN  \n",
       "4177         5.0    4.0 and up      1.6  "
      ]
     },
     "execution_count": 16,
     "metadata": {},
     "output_type": "execute_result"
    }
   ],
   "source": [
    "df.sort_values('Price', ascending=False).groupby('Category').head(1).sort_values('Price', ascending=False).head(10)"
   ]
  },
  {
   "cell_type": "markdown",
   "id": "c9b502c5",
   "metadata": {
    "papermill": {
     "duration": 0.012198,
     "end_time": "2025-09-05T14:45:20.915140",
     "exception": false,
     "start_time": "2025-09-05T14:45:20.902942",
     "status": "completed"
    },
    "tags": []
   },
   "source": [
    "### Its normal they are expensive apps not errors"
   ]
  },
  {
   "cell_type": "code",
   "execution_count": 17,
   "id": "45657c4d",
   "metadata": {
    "execution": {
     "iopub.execute_input": "2025-09-05T14:45:20.941812Z",
     "iopub.status.busy": "2025-09-05T14:45:20.940593Z",
     "iopub.status.idle": "2025-09-05T14:45:21.318770Z",
     "shell.execute_reply": "2025-09-05T14:45:21.317859Z"
    },
    "papermill": {
     "duration": 0.392608,
     "end_time": "2025-09-05T14:45:21.320275",
     "exception": false,
     "start_time": "2025-09-05T14:45:20.927667",
     "status": "completed"
    },
    "tags": []
   },
   "outputs": [
    {
     "name": "stderr",
     "output_type": "stream",
     "text": [
      "/usr/local/lib/python3.11/dist-packages/seaborn/_oldcore.py:1119: FutureWarning: use_inf_as_na option is deprecated and will be removed in a future version. Convert inf values to NaN before operating instead.\n",
      "  with pd.option_context('mode.use_inf_as_na', True):\n"
     ]
    },
    {
     "data": {
      "text/plain": [
       "<Axes: xlabel='Price_Log', ylabel='Count'>"
      ]
     },
     "execution_count": 17,
     "metadata": {},
     "output_type": "execute_result"
    },
    {
     "data": {
      "image/png": "[encoded data removed]",
      "text/plain": [
       "<Figure size 640x480 with 1 Axes>"
      ]
     },
     "metadata": {},
     "output_type": "display_data"
    }
   ],
   "source": [
    "#We can use log transform for visualization\n",
    "df['Price_Log'] = np.log1p(df['Price'])\n",
    "sns.histplot(df.Price_Log, kde=True)"
   ]
  },
  {
   "cell_type": "code",
   "execution_count": 18,
   "id": "9f7791b4",
   "metadata": {
    "execution": {
     "iopub.execute_input": "2025-09-05T14:45:21.347039Z",
     "iopub.status.busy": "2025-09-05T14:45:21.346713Z",
     "iopub.status.idle": "2025-09-05T14:45:21.355435Z",
     "shell.execute_reply": "2025-09-05T14:45:21.354560Z"
    },
    "papermill": {
     "duration": 0.023695,
     "end_time": "2025-09-05T14:45:21.356923",
     "exception": false,
     "start_time": "2025-09-05T14:45:21.333228",
     "status": "completed"
    },
    "tags": []
   },
   "outputs": [
    {
     "data": {
      "text/plain": [
       "Category\n",
       "FAMILY                 1972\n",
       "GAME                   1144\n",
       "TOOLS                   843\n",
       "MEDICAL                 463\n",
       "BUSINESS                460\n",
       "PRODUCTIVITY            424\n",
       "PERSONALIZATION         392\n",
       "COMMUNICATION           387\n",
       "SPORTS                  384\n",
       "LIFESTYLE               382\n",
       "FINANCE                 366\n",
       "HEALTH_AND_FITNESS      341\n",
       "PHOTOGRAPHY             335\n",
       "SOCIAL                  295\n",
       "NEWS_AND_MAGAZINES      283\n",
       "SHOPPING                260\n",
       "TRAVEL_AND_LOCAL        258\n",
       "DATING                  234\n",
       "BOOKS_AND_REFERENCE     231\n",
       "VIDEO_PLAYERS           175\n",
       "EDUCATION               156\n",
       "ENTERTAINMENT           149\n",
       "MAPS_AND_NAVIGATION     137\n",
       "FOOD_AND_DRINK          127\n",
       "HOUSE_AND_HOME           88\n",
       "LIBRARIES_AND_DEMO       85\n",
       "AUTO_AND_VEHICLES        85\n",
       "WEATHER                  82\n",
       "ART_AND_DESIGN           65\n",
       "EVENTS                   64\n",
       "PARENTING                60\n",
       "COMICS                   60\n",
       "BEAUTY                   53\n",
       "4.3                       1\n",
       "Name: count, dtype: int64"
      ]
     },
     "execution_count": 18,
     "metadata": {},
     "output_type": "execute_result"
    }
   ],
   "source": [
    "df.Category.value_counts()"
   ]
  },
  {
   "cell_type": "markdown",
   "id": "00ebf4b4",
   "metadata": {
    "papermill": {
     "duration": 0.012321,
     "end_time": "2025-09-05T14:45:21.382175",
     "exception": false,
     "start_time": "2025-09-05T14:45:21.369854",
     "status": "completed"
    },
    "tags": []
   },
   "source": [
    "### Strange category with name 4.3"
   ]
  },
  {
   "cell_type": "code",
   "execution_count": 19,
   "id": "ddb3c652",
   "metadata": {
    "execution": {
     "iopub.execute_input": "2025-09-05T14:45:21.410146Z",
     "iopub.status.busy": "2025-09-05T14:45:21.409789Z",
     "iopub.status.idle": "2025-09-05T14:45:21.426899Z",
     "shell.execute_reply": "2025-09-05T14:45:21.425894Z"
    },
    "papermill": {
     "duration": 0.0337,
     "end_time": "2025-09-05T14:45:21.428534",
     "exception": false,
     "start_time": "2025-09-05T14:45:21.394834",
     "status": "completed"
    },
    "tags": []
   },
   "outputs": [
    {
     "name": "stderr",
     "output_type": "stream",
     "text": [
      "/usr/local/lib/python3.11/dist-packages/pandas/io/formats/format.py:1458: RuntimeWarning: invalid value encountered in greater\n",
      "  has_large_values = (abs_vals > 1e6).any()\n",
      "/usr/local/lib/python3.11/dist-packages/pandas/io/formats/format.py:1459: RuntimeWarning: invalid value encountered in less\n",
      "  has_small_values = ((abs_vals < 10 ** (-self.digits)) & (abs_vals > 0)).any()\n",
      "/usr/local/lib/python3.11/dist-packages/pandas/io/formats/format.py:1459: RuntimeWarning: invalid value encountered in greater\n",
      "  has_small_values = ((abs_vals < 10 ** (-self.digits)) & (abs_vals > 0)).any()\n"
     ]
    },
    {
     "data": {
      "text/html": [
       "<div>\n",
       "<style scoped>\n",
       "    .dataframe tbody tr th:only-of-type {\n",
       "        vertical-align: middle;\n",
       "    }\n",
       "\n",
       "    .dataframe tbody tr th {\n",
       "        vertical-align: top;\n",
       "    }\n",
       "\n",
       "    .dataframe thead th {\n",
       "        text-align: right;\n",
       "    }\n",
       "</style>\n",
       "<table border=\"1\" class=\"dataframe\">\n",
       "  <thead>\n",
       "    <tr style=\"text-align: right;\">\n",
       "      <th></th>\n",
       "      <th>App</th>\n",
       "      <th>Category</th>\n",
       "      <th>Rating</th>\n",
       "      <th>Reviews</th>\n",
       "      <th>Size</th>\n",
       "      <th>Installs</th>\n",
       "      <th>Type</th>\n",
       "      <th>Price</th>\n",
       "      <th>Content Rating</th>\n",
       "      <th>Genres</th>\n",
       "      <th>Last Updated</th>\n",
       "      <th>Current Ver</th>\n",
       "      <th>Android Ver</th>\n",
       "      <th>Size_MB</th>\n",
       "      <th>Price_Log</th>\n",
       "    </tr>\n",
       "  </thead>\n",
       "  <tbody>\n",
       "    <tr>\n",
       "      <th>10472</th>\n",
       "      <td>4.3</td>\n",
       "      <td>4.3</td>\n",
       "      <td>4.3</td>\n",
       "      <td>4.3</td>\n",
       "      <td>4.3</td>\n",
       "      <td>4.3</td>\n",
       "      <td>4.3</td>\n",
       "      <td>4.3</td>\n",
       "      <td>4.3</td>\n",
       "      <td>4.3</td>\n",
       "      <td>4.3</td>\n",
       "      <td>4.3</td>\n",
       "      <td>4.3</td>\n",
       "      <td>NaN</td>\n",
       "      <td>1.667707</td>\n",
       "    </tr>\n",
       "  </tbody>\n",
       "</table>\n",
       "</div>"
      ],
      "text/plain": [
       "       App Category  Rating Reviews Size Installs Type  Price Content Rating  \\\n",
       "10472  4.3      4.3     4.3     4.3  4.3      4.3  4.3    4.3            4.3   \n",
       "\n",
       "      Genres Last Updated Current Ver Android Ver  Size_MB  Price_Log  \n",
       "10472    4.3          4.3         4.3         4.3      NaN   1.667707  "
      ]
     },
     "execution_count": 19,
     "metadata": {},
     "output_type": "execute_result"
    }
   ],
   "source": [
    "df[df['Category'] == 4.3]"
   ]
  },
  {
   "cell_type": "code",
   "execution_count": 20,
   "id": "6e23b331",
   "metadata": {
    "execution": {
     "iopub.execute_input": "2025-09-05T14:45:21.457114Z",
     "iopub.status.busy": "2025-09-05T14:45:21.456831Z",
     "iopub.status.idle": "2025-09-05T14:45:21.474455Z",
     "shell.execute_reply": "2025-09-05T14:45:21.473575Z"
    },
    "papermill": {
     "duration": 0.034004,
     "end_time": "2025-09-05T14:45:21.476156",
     "exception": false,
     "start_time": "2025-09-05T14:45:21.442152",
     "status": "completed"
    },
    "tags": []
   },
   "outputs": [
    {
     "data": {
      "text/html": [
       "<div>\n",
       "<style scoped>\n",
       "    .dataframe tbody tr th:only-of-type {\n",
       "        vertical-align: middle;\n",
       "    }\n",
       "\n",
       "    .dataframe tbody tr th {\n",
       "        vertical-align: top;\n",
       "    }\n",
       "\n",
       "    .dataframe thead th {\n",
       "        text-align: right;\n",
       "    }\n",
       "</style>\n",
       "<table border=\"1\" class=\"dataframe\">\n",
       "  <thead>\n",
       "    <tr style=\"text-align: right;\">\n",
       "      <th></th>\n",
       "      <th>App</th>\n",
       "      <th>Category</th>\n",
       "      <th>Rating</th>\n",
       "      <th>Reviews</th>\n",
       "      <th>Size</th>\n",
       "      <th>Installs</th>\n",
       "      <th>Type</th>\n",
       "      <th>Price</th>\n",
       "      <th>Content Rating</th>\n",
       "      <th>Genres</th>\n",
       "      <th>Last Updated</th>\n",
       "      <th>Current Ver</th>\n",
       "      <th>Android Ver</th>\n",
       "      <th>Size_MB</th>\n",
       "      <th>Price_Log</th>\n",
       "    </tr>\n",
       "  </thead>\n",
       "  <tbody>\n",
       "  </tbody>\n",
       "</table>\n",
       "</div>"
      ],
      "text/plain": [
       "Empty DataFrame\n",
       "Columns: [App, Category, Rating, Reviews, Size, Installs, Type, Price, Content Rating, Genres, Last Updated, Current Ver, Android Ver, Size_MB, Price_Log]\n",
       "Index: []"
      ]
     },
     "execution_count": 20,
     "metadata": {},
     "output_type": "execute_result"
    }
   ],
   "source": [
    "# Whole row is dropped\n",
    "df.drop(index=df[df['Category'] == 4.3].index, inplace=True)\n",
    "df[df['Category'] == 4.3]"
   ]
  },
  {
   "cell_type": "code",
   "execution_count": 21,
   "id": "f03bd4c2",
   "metadata": {
    "execution": {
     "iopub.execute_input": "2025-09-05T14:45:21.504162Z",
     "iopub.status.busy": "2025-09-05T14:45:21.503880Z",
     "iopub.status.idle": "2025-09-05T14:45:21.511089Z",
     "shell.execute_reply": "2025-09-05T14:45:21.510273Z"
    },
    "papermill": {
     "duration": 0.023001,
     "end_time": "2025-09-05T14:45:21.512678",
     "exception": false,
     "start_time": "2025-09-05T14:45:21.489677",
     "status": "completed"
    },
    "tags": []
   },
   "outputs": [
    {
     "data": {
      "text/plain": [
       "0              4.0.3 and up\n",
       "1              4.0.3 and up\n",
       "2              4.0.3 and up\n",
       "3                4.2 and up\n",
       "4                4.4 and up\n",
       "                ...        \n",
       "10836            4.1 and up\n",
       "10837            4.1 and up\n",
       "10838            2.2 and up\n",
       "10839    Varies with device\n",
       "10840    Varies with device\n",
       "Name: Android Ver, Length: 10840, dtype: object"
      ]
     },
     "execution_count": 21,
     "metadata": {},
     "output_type": "execute_result"
    }
   ],
   "source": [
    "df['Android Ver']"
   ]
  },
  {
   "cell_type": "markdown",
   "id": "b44c2726",
   "metadata": {
    "papermill": {
     "duration": 0.014157,
     "end_time": "2025-09-05T14:45:21.540674",
     "exception": false,
     "start_time": "2025-09-05T14:45:21.526517",
     "status": "completed"
    },
    "tags": []
   },
   "source": [
    "### Lets make it float"
   ]
  },
  {
   "cell_type": "code",
   "execution_count": 22,
   "id": "870de28c",
   "metadata": {
    "execution": {
     "iopub.execute_input": "2025-09-05T14:45:21.570287Z",
     "iopub.status.busy": "2025-09-05T14:45:21.569966Z",
     "iopub.status.idle": "2025-09-05T14:45:21.583608Z",
     "shell.execute_reply": "2025-09-05T14:45:21.582623Z"
    },
    "papermill": {
     "duration": 0.03049,
     "end_time": "2025-09-05T14:45:21.585604",
     "exception": false,
     "start_time": "2025-09-05T14:45:21.555114",
     "status": "completed"
    },
    "tags": []
   },
   "outputs": [],
   "source": [
    "\n",
    "def android_ver_to_float(ver):\n",
    "    try:\n",
    "        ver = str(ver)\n",
    "        if ver.lower() == \"varies with device\":\n",
    "            return np.nan  \n",
    "        \n",
    "        return float(ver.split()[0])\n",
    "    except:\n",
    "        return np.nan\n",
    "\n",
    "df['Android_Ver_Num'] = df['Android Ver'].apply(android_ver_to_float)\n"
   ]
  },
  {
   "cell_type": "code",
   "execution_count": 23,
   "id": "e84ad61b",
   "metadata": {
    "execution": {
     "iopub.execute_input": "2025-09-05T14:45:21.613787Z",
     "iopub.status.busy": "2025-09-05T14:45:21.613458Z",
     "iopub.status.idle": "2025-09-05T14:45:21.623901Z",
     "shell.execute_reply": "2025-09-05T14:45:21.623034Z"
    },
    "papermill": {
     "duration": 0.026568,
     "end_time": "2025-09-05T14:45:21.625419",
     "exception": false,
     "start_time": "2025-09-05T14:45:21.598851",
     "status": "completed"
    },
    "tags": []
   },
   "outputs": [
    {
     "data": {
      "text/plain": [
       "count    7673.000000\n",
       "mean        3.898527\n",
       "std         0.876864\n",
       "min         1.000000\n",
       "25%         4.000000\n",
       "50%         4.100000\n",
       "75%         4.300000\n",
       "max         8.000000\n",
       "Name: Android_Ver_Num, dtype: float64"
      ]
     },
     "execution_count": 23,
     "metadata": {},
     "output_type": "execute_result"
    }
   ],
   "source": [
    "df['Android_Ver_Num'].describe()"
   ]
  },
  {
   "cell_type": "markdown",
   "id": "9482d4db",
   "metadata": {
    "papermill": {
     "duration": 0.012788,
     "end_time": "2025-09-05T14:45:21.652555",
     "exception": false,
     "start_time": "2025-09-05T14:45:21.639767",
     "status": "completed"
    },
    "tags": []
   },
   "source": [
    "### Looks good"
   ]
  },
  {
   "cell_type": "markdown",
   "id": "b98686a0",
   "metadata": {
    "papermill": {
     "duration": 0.012938,
     "end_time": "2025-09-05T14:45:21.678726",
     "exception": false,
     "start_time": "2025-09-05T14:45:21.665788",
     "status": "completed"
    },
    "tags": []
   },
   "source": [
    "# Handling missing values and duplicates"
   ]
  },
  {
   "cell_type": "code",
   "execution_count": 24,
   "id": "44ff859d",
   "metadata": {
    "execution": {
     "iopub.execute_input": "2025-09-05T14:45:21.708505Z",
     "iopub.status.busy": "2025-09-05T14:45:21.708176Z",
     "iopub.status.idle": "2025-09-05T14:45:21.722850Z",
     "shell.execute_reply": "2025-09-05T14:45:21.722081Z"
    },
    "papermill": {
     "duration": 0.032532,
     "end_time": "2025-09-05T14:45:21.724348",
     "exception": false,
     "start_time": "2025-09-05T14:45:21.691816",
     "status": "completed"
    },
    "tags": []
   },
   "outputs": [
    {
     "data": {
      "text/plain": [
       "App                   0\n",
       "Category              0\n",
       "Rating             1474\n",
       "Reviews               0\n",
       "Size                  0\n",
       "Installs              0\n",
       "Type                  1\n",
       "Price                 0\n",
       "Content Rating        0\n",
       "Genres                0\n",
       "Last Updated          0\n",
       "Current Ver           8\n",
       "Android Ver           2\n",
       "Size_MB            2011\n",
       "Price_Log             0\n",
       "Android_Ver_Num    3167\n",
       "dtype: int64"
      ]
     },
     "execution_count": 24,
     "metadata": {},
     "output_type": "execute_result"
    }
   ],
   "source": [
    "df.isna().sum()"
   ]
  },
  {
   "cell_type": "code",
   "execution_count": 25,
   "id": "9cd8a854",
   "metadata": {
    "execution": {
     "iopub.execute_input": "2025-09-05T14:45:21.753308Z",
     "iopub.status.busy": "2025-09-05T14:45:21.752908Z",
     "iopub.status.idle": "2025-09-05T14:45:21.768721Z",
     "shell.execute_reply": "2025-09-05T14:45:21.767561Z"
    },
    "papermill": {
     "duration": 0.032629,
     "end_time": "2025-09-05T14:45:21.770877",
     "exception": false,
     "start_time": "2025-09-05T14:45:21.738248",
     "status": "completed"
    },
    "tags": []
   },
   "outputs": [],
   "source": [
    "import warnings \n",
    "warnings.filterwarnings('ignore')\n",
    "df.Rating.fillna(df.Rating.mean(), inplace=True)\n",
    "df.Size_MB.fillna(df.Size_MB.median(), inplace=True)\n",
    "df.Android_Ver_Num.fillna(df.Android_Ver_Num.median(), inplace=True)\n",
    "df.Type.fillna(df.Type.mode()[0], inplace=True)\n",
    "df['Current Ver'].fillna(df['Current Ver'].mode()[0], inplace=True)\n",
    "df['Android Ver'].fillna(df['Android Ver'].mode()[0], inplace=True)"
   ]
  },
  {
   "cell_type": "code",
   "execution_count": 26,
   "id": "c01705e0",
   "metadata": {
    "execution": {
     "iopub.execute_input": "2025-09-05T14:45:21.799534Z",
     "iopub.status.busy": "2025-09-05T14:45:21.799195Z",
     "iopub.status.idle": "2025-09-05T14:45:21.814559Z",
     "shell.execute_reply": "2025-09-05T14:45:21.813393Z"
    },
    "papermill": {
     "duration": 0.031848,
     "end_time": "2025-09-05T14:45:21.816193",
     "exception": false,
     "start_time": "2025-09-05T14:45:21.784345",
     "status": "completed"
    },
    "tags": []
   },
   "outputs": [
    {
     "data": {
      "text/plain": [
       "App                0\n",
       "Category           0\n",
       "Rating             0\n",
       "Reviews            0\n",
       "Size               0\n",
       "Installs           0\n",
       "Type               0\n",
       "Price              0\n",
       "Content Rating     0\n",
       "Genres             0\n",
       "Last Updated       0\n",
       "Current Ver        0\n",
       "Android Ver        0\n",
       "Size_MB            0\n",
       "Price_Log          0\n",
       "Android_Ver_Num    0\n",
       "dtype: int64"
      ]
     },
     "execution_count": 26,
     "metadata": {},
     "output_type": "execute_result"
    }
   ],
   "source": [
    "df.isna().sum()"
   ]
  },
  {
   "cell_type": "code",
   "execution_count": 27,
   "id": "10fc8b42",
   "metadata": {
    "execution": {
     "iopub.execute_input": "2025-09-05T14:45:21.845289Z",
     "iopub.status.busy": "2025-09-05T14:45:21.844962Z",
     "iopub.status.idle": "2025-09-05T14:45:21.865369Z",
     "shell.execute_reply": "2025-09-05T14:45:21.864299Z"
    },
    "papermill": {
     "duration": 0.036534,
     "end_time": "2025-09-05T14:45:21.866967",
     "exception": false,
     "start_time": "2025-09-05T14:45:21.830433",
     "status": "completed"
    },
    "tags": []
   },
   "outputs": [
    {
     "data": {
      "text/plain": [
       "483"
      ]
     },
     "execution_count": 27,
     "metadata": {},
     "output_type": "execute_result"
    }
   ],
   "source": [
    "df.duplicated().sum()"
   ]
  },
  {
   "cell_type": "code",
   "execution_count": 28,
   "id": "757dfaa4",
   "metadata": {
    "execution": {
     "iopub.execute_input": "2025-09-05T14:45:21.896946Z",
     "iopub.status.busy": "2025-09-05T14:45:21.896652Z",
     "iopub.status.idle": "2025-09-05T14:45:21.915501Z",
     "shell.execute_reply": "2025-09-05T14:45:21.914415Z"
    },
    "papermill": {
     "duration": 0.036097,
     "end_time": "2025-09-05T14:45:21.917187",
     "exception": false,
     "start_time": "2025-09-05T14:45:21.881090",
     "status": "completed"
    },
    "tags": []
   },
   "outputs": [],
   "source": [
    "#removing duplicates\n",
    "df.drop_duplicates(inplace=True)"
   ]
  },
  {
   "cell_type": "code",
   "execution_count": 29,
   "id": "6fe607a2",
   "metadata": {
    "execution": {
     "iopub.execute_input": "2025-09-05T14:45:21.946025Z",
     "iopub.status.busy": "2025-09-05T14:45:21.945742Z",
     "iopub.status.idle": "2025-09-05T14:45:21.964251Z",
     "shell.execute_reply": "2025-09-05T14:45:21.963318Z"
    },
    "papermill": {
     "duration": 0.034794,
     "end_time": "2025-09-05T14:45:21.966004",
     "exception": false,
     "start_time": "2025-09-05T14:45:21.931210",
     "status": "completed"
    },
    "tags": []
   },
   "outputs": [
    {
     "data": {
      "text/plain": [
       "0"
      ]
     },
     "execution_count": 29,
     "metadata": {},
     "output_type": "execute_result"
    }
   ],
   "source": [
    "df.duplicated().sum()"
   ]
  },
  {
   "cell_type": "code",
   "execution_count": 30,
   "id": "7df1e3ed",
   "metadata": {
    "execution": {
     "iopub.execute_input": "2025-09-05T14:45:21.994436Z",
     "iopub.status.busy": "2025-09-05T14:45:21.994038Z",
     "iopub.status.idle": "2025-09-05T14:45:22.267513Z",
     "shell.execute_reply": "2025-09-05T14:45:22.266425Z"
    },
    "papermill": {
     "duration": 0.289556,
     "end_time": "2025-09-05T14:45:22.269349",
     "exception": false,
     "start_time": "2025-09-05T14:45:21.979793",
     "status": "completed"
    },
    "tags": []
   },
   "outputs": [
    {
     "data": {
      "image/png": "[encoded data removed]",
      "text/plain": [
       "<Figure size 1200x600 with 1 Axes>"
      ]
     },
     "metadata": {},
     "output_type": "display_data"
    }
   ],
   "source": [
    "#Outlier Detection using visualization\n",
    "\n",
    "numeric_cols = df.select_dtypes(include=['float64', 'int64']).columns\n",
    "\n",
    "df_melt = df[numeric_cols].melt(var_name='Feature', value_name='Value')\n",
    "\n",
    "# Draw boxplots\n",
    "plt.figure(figsize=(12,6))\n",
    "sns.boxplot(x='Feature', y='Value', data=df_melt)\n",
    "plt.xticks(rotation=45)\n",
    "plt.title(\"Boxplots of Numeric Features\")\n",
    "plt.show()\n",
    "\n"
   ]
  },
  {
   "cell_type": "code",
   "execution_count": 31,
   "id": "877640e2",
   "metadata": {
    "execution": {
     "iopub.execute_input": "2025-09-05T14:45:22.300632Z",
     "iopub.status.busy": "2025-09-05T14:45:22.299710Z",
     "iopub.status.idle": "2025-09-05T14:45:22.310848Z",
     "shell.execute_reply": "2025-09-05T14:45:22.310071Z"
    },
    "papermill": {
     "duration": 0.028365,
     "end_time": "2025-09-05T14:45:22.312427",
     "exception": false,
     "start_time": "2025-09-05T14:45:22.284062",
     "status": "completed"
    },
    "tags": []
   },
   "outputs": [],
   "source": [
    "df['Reviews']=pd.to_numeric(df['Reviews'], errors='coerce')"
   ]
  },
  {
   "cell_type": "markdown",
   "id": "78405338",
   "metadata": {
    "papermill": {
     "duration": 0.014263,
     "end_time": "2025-09-05T14:45:22.341147",
     "exception": false,
     "start_time": "2025-09-05T14:45:22.326884",
     "status": "completed"
    },
    "tags": []
   },
   "source": [
    "## Analytical Questions:\n",
    "- What is the most expensive app on the Play Store?\n",
    "- Which genre has the highest number of apps?\n",
    "- What is the average size of free vs. paid apps?\n",
    "- What are the top 5 most expensive apps with a perfect rating (5)?\n",
    "- How many apps have received more than 50K reviews?\n",
    "- What is the average price of apps, grouped by genre and number of installs?\n",
    "- How many apps have a rating higher than 4.7, and what is their average price?\n",
    "- What is Google's estimated revenue from apps with 5,000,000+ installs?\n",
    "(Assuming Google takes a 30% cut from app sales)\n",
    "- What are the maximum and minimum sizes of free vs. paid apps?\n",
    "- Is there a correlation between an app’s rating, number of reviews, size, and its price?\n",
    "- How many apps exist for each type (free/paid) across different content ratings?\n",
    "- How many apps are compatible with Android version 4.x?\n"
   ]
  },
  {
   "cell_type": "code",
   "execution_count": 32,
   "id": "8af0e05e",
   "metadata": {
    "execution": {
     "iopub.execute_input": "2025-09-05T14:45:22.377156Z",
     "iopub.status.busy": "2025-09-05T14:45:22.376831Z",
     "iopub.status.idle": "2025-09-05T14:45:22.385701Z",
     "shell.execute_reply": "2025-09-05T14:45:22.384563Z"
    },
    "papermill": {
     "duration": 0.02605,
     "end_time": "2025-09-05T14:45:22.387498",
     "exception": false,
     "start_time": "2025-09-05T14:45:22.361448",
     "status": "completed"
    },
    "tags": []
   },
   "outputs": [
    {
     "data": {
      "text/plain": [
       "4367    I'm Rich - Trump Edition\n",
       "Name: App, dtype: object"
      ]
     },
     "execution_count": 32,
     "metadata": {},
     "output_type": "execute_result"
    }
   ],
   "source": [
    "most_expensive=df[df['Price'] == df['Price'].max()]\n",
    "most_expensive.App"
   ]
  },
  {
   "cell_type": "code",
   "execution_count": 33,
   "id": "c6a4dd9d",
   "metadata": {
    "execution": {
     "iopub.execute_input": "2025-09-05T14:45:22.419367Z",
     "iopub.status.busy": "2025-09-05T14:45:22.419062Z",
     "iopub.status.idle": "2025-09-05T14:45:22.693910Z",
     "shell.execute_reply": "2025-09-05T14:45:22.692568Z"
    },
    "papermill": {
     "duration": 0.293411,
     "end_time": "2025-09-05T14:45:22.695944",
     "exception": false,
     "start_time": "2025-09-05T14:45:22.402533",
     "status": "completed"
    },
    "tags": []
   },
   "outputs": [
    {
     "data": {
      "image/png": "[encoded data removed]",
      "text/plain": [
       "<Figure size 800x500 with 1 Axes>"
      ]
     },
     "metadata": {},
     "output_type": "display_data"
    }
   ],
   "source": [
    "top_expensive_apps = df.nlargest(10, 'Price')\n",
    "plt.figure(figsize=(8,5))\n",
    "sns.barplot(x=top_expensive_apps['App'], y=top_expensive_apps['Price'])\n",
    "plt.title('Top 10 Most Expensive Apps')\n",
    "plt.xticks(rotation=45)\n",
    "plt.ylim(399.75, top_expensive_apps['Price'].max())\n",
    "plt.show()"
   ]
  },
  {
   "cell_type": "code",
   "execution_count": 34,
   "id": "7e85be80",
   "metadata": {
    "execution": {
     "iopub.execute_input": "2025-09-05T14:45:22.729658Z",
     "iopub.status.busy": "2025-09-05T14:45:22.728986Z",
     "iopub.status.idle": "2025-09-05T14:45:22.736029Z",
     "shell.execute_reply": "2025-09-05T14:45:22.735007Z"
    },
    "papermill": {
     "duration": 0.025346,
     "end_time": "2025-09-05T14:45:22.737555",
     "exception": false,
     "start_time": "2025-09-05T14:45:22.712209",
     "status": "completed"
    },
    "tags": []
   },
   "outputs": [
    {
     "data": {
      "text/plain": [
       "'Tools'"
      ]
     },
     "execution_count": 34,
     "metadata": {},
     "output_type": "execute_result"
    }
   ],
   "source": [
    "highest_genre = df['Genres'].mode()[0]\n",
    "highest_genre\n"
   ]
  },
  {
   "cell_type": "code",
   "execution_count": 35,
   "id": "cae1dd46",
   "metadata": {
    "execution": {
     "iopub.execute_input": "2025-09-05T14:45:22.771438Z",
     "iopub.status.busy": "2025-09-05T14:45:22.771130Z",
     "iopub.status.idle": "2025-09-05T14:45:22.997675Z",
     "shell.execute_reply": "2025-09-05T14:45:22.996640Z"
    },
    "papermill": {
     "duration": 0.245362,
     "end_time": "2025-09-05T14:45:22.999263",
     "exception": false,
     "start_time": "2025-09-05T14:45:22.753901",
     "status": "completed"
    },
    "tags": []
   },
   "outputs": [
    {
     "data": {
      "image/png": "[encoded data removed]",
      "text/plain": [
       "<Figure size 800x500 with 1 Axes>"
      ]
     },
     "metadata": {},
     "output_type": "display_data"
    }
   ],
   "source": [
    "top_genres = df['Genres'].value_counts().head(10)\n",
    "\n",
    "plt.figure(figsize=(8,5))\n",
    "sns.barplot(x=top_genres.values, y=top_genres.index)\n",
    "plt.title(\"Top 10 Most Common Genres\")\n",
    "plt.xlabel(\"Count\")\n",
    "plt.ylabel(\"Genre\")\n",
    "plt.show()"
   ]
  },
  {
   "cell_type": "code",
   "execution_count": 36,
   "id": "5c9d611c",
   "metadata": {
    "execution": {
     "iopub.execute_input": "2025-09-05T14:45:23.035133Z",
     "iopub.status.busy": "2025-09-05T14:45:23.034782Z",
     "iopub.status.idle": "2025-09-05T14:45:23.044884Z",
     "shell.execute_reply": "2025-09-05T14:45:23.043825Z"
    },
    "papermill": {
     "duration": 0.029426,
     "end_time": "2025-09-05T14:45:23.046360",
     "exception": false,
     "start_time": "2025-09-05T14:45:23.016934",
     "status": "completed"
    },
    "tags": []
   },
   "outputs": [
    {
     "name": "stdout",
     "output_type": "stream",
     "text": [
      "Average size of free apps vs paid apps:\n",
      " 20.68764595496247 vs 19.855163398692813\n"
     ]
    }
   ],
   "source": [
    "free_apps = df[df['Price'] == 0]\n",
    "paid_apps = df[df['Price'] > 0]\n",
    "average_size_free = free_apps['Size_MB'].mean()\n",
    "average_size_paid = paid_apps['Size_MB'].mean()\n",
    "print(\"Average size of free apps vs paid apps:\\n\", average_size_free, \"vs\", average_size_paid)"
   ]
  },
  {
   "cell_type": "code",
   "execution_count": 37,
   "id": "a131484d",
   "metadata": {
    "execution": {
     "iopub.execute_input": "2025-09-05T14:45:23.082629Z",
     "iopub.status.busy": "2025-09-05T14:45:23.082289Z",
     "iopub.status.idle": "2025-09-05T14:45:23.357992Z",
     "shell.execute_reply": "2025-09-05T14:45:23.357086Z"
    },
    "papermill": {
     "duration": 0.296582,
     "end_time": "2025-09-05T14:45:23.359729",
     "exception": false,
     "start_time": "2025-09-05T14:45:23.063147",
     "status": "completed"
    },
    "tags": []
   },
   "outputs": [
    {
     "data": {
      "image/png": "[encoded data removed]",
      "text/plain": [
       "<Figure size 600x400 with 1 Axes>"
      ]
     },
     "metadata": {},
     "output_type": "display_data"
    }
   ],
   "source": [
    "plt.figure(figsize=(6,4))\n",
    "sns.barplot(x=\"Type\", y=\"Size_MB\", data=df, estimator=np.mean)\n",
    "plt.title(\"Average App Size by Type\")\n",
    "plt.xlabel(\"Type\")\n",
    "plt.ylabel(\"Average Size (MB)\")\n",
    "plt.show()"
   ]
  },
  {
   "cell_type": "code",
   "execution_count": 38,
   "id": "285a92b2",
   "metadata": {
    "execution": {
     "iopub.execute_input": "2025-09-05T14:45:23.394875Z",
     "iopub.status.busy": "2025-09-05T14:45:23.394580Z",
     "iopub.status.idle": "2025-09-05T14:45:23.404379Z",
     "shell.execute_reply": "2025-09-05T14:45:23.403541Z"
    },
    "papermill": {
     "duration": 0.029109,
     "end_time": "2025-09-05T14:45:23.406005",
     "exception": false,
     "start_time": "2025-09-05T14:45:23.376896",
     "status": "completed"
    },
    "tags": []
   },
   "outputs": [
    {
     "data": {
      "text/plain": [
       "5489                    AP Art History Flashcards\n",
       "7477                   USMLE Step 2 CK Flashcards\n",
       "5246                        Hey AJ! It's Bedtime!\n",
       "5482                   meStudying: AP English Lit\n",
       "7204    TI-84 CE Graphing Calculator Manual TI 84\n",
       "Name: App, dtype: object"
      ]
     },
     "execution_count": 38,
     "metadata": {},
     "output_type": "execute_result"
    }
   ],
   "source": [
    "highest_five_apps = (df[df['Rating'] == df['Rating'].max()]\n",
    "                     .sort_values(by='Price', ascending=False)\n",
    "                     .head(5)['App'])\n",
    "highest_five_apps"
   ]
  },
  {
   "cell_type": "code",
   "execution_count": 39,
   "id": "a48ea2a1",
   "metadata": {
    "execution": {
     "iopub.execute_input": "2025-09-05T14:45:23.444210Z",
     "iopub.status.busy": "2025-09-05T14:45:23.443903Z",
     "iopub.status.idle": "2025-09-05T14:45:23.629543Z",
     "shell.execute_reply": "2025-09-05T14:45:23.628567Z"
    },
    "papermill": {
     "duration": 0.205361,
     "end_time": "2025-09-05T14:45:23.631038",
     "exception": false,
     "start_time": "2025-09-05T14:45:23.425677",
     "status": "completed"
    },
    "tags": []
   },
   "outputs": [
    {
     "data": {
      "image/png": "[encoded data removed]",
      "text/plain": [
       "<Figure size 640x480 with 1 Axes>"
      ]
     },
     "metadata": {},
     "output_type": "display_data"
    }
   ],
   "source": [
    "sns.barplot(x=highest_five_apps,y=df['Price'], data=df)\n",
    "plt.title(\"Most expensive top 5 Highest Rated Apps\")\n",
    "plt.xlabel(\"App\")\n",
    "plt.ylabel(\"Price\")\n",
    "plt.xticks(rotation=45, fontsize=6)\n",
    "plt.show()"
   ]
  },
  {
   "cell_type": "code",
   "execution_count": 40,
   "id": "877a3296",
   "metadata": {
    "execution": {
     "iopub.execute_input": "2025-09-05T14:45:23.668589Z",
     "iopub.status.busy": "2025-09-05T14:45:23.668251Z",
     "iopub.status.idle": "2025-09-05T14:45:23.674548Z",
     "shell.execute_reply": "2025-09-05T14:45:23.673680Z"
    },
    "papermill": {
     "duration": 0.026369,
     "end_time": "2025-09-05T14:45:23.675852",
     "exception": false,
     "start_time": "2025-09-05T14:45:23.649483",
     "status": "completed"
    },
    "tags": []
   },
   "outputs": [
    {
     "name": "stdout",
     "output_type": "stream",
     "text": [
      "2525\n"
     ]
    }
   ],
   "source": [
    "more_than_50k_num=df['Reviews'][df['Reviews'] > 50000].count()\n",
    "print(more_than_50k_num)"
   ]
  },
  {
   "cell_type": "code",
   "execution_count": 41,
   "id": "171f3203",
   "metadata": {
    "execution": {
     "iopub.execute_input": "2025-09-05T14:45:23.713676Z",
     "iopub.status.busy": "2025-09-05T14:45:23.713328Z",
     "iopub.status.idle": "2025-09-05T14:45:23.849182Z",
     "shell.execute_reply": "2025-09-05T14:45:23.848249Z"
    },
    "papermill": {
     "duration": 0.156221,
     "end_time": "2025-09-05T14:45:23.850754",
     "exception": false,
     "start_time": "2025-09-05T14:45:23.694533",
     "status": "completed"
    },
    "tags": []
   },
   "outputs": [
    {
     "data": {
      "image/png": "[encoded data removed]",
      "text/plain": [
       "<Figure size 640x480 with 1 Axes>"
      ]
     },
     "metadata": {},
     "output_type": "display_data"
    }
   ],
   "source": [
    "\n",
    "sns.barplot(x=[more_than_50k_num, df['Reviews'].count()], y=[\"More than 50k Reviews\", \"Total Reviews\"])\n",
    "plt.title(\"Number of Apps with More than 50k Reviews\")\n",
    "plt.xlabel(\"Count\")\n",
    "plt.ylabel(\"Category\")\n",
    "plt.show()"
   ]
  },
  {
   "cell_type": "code",
   "execution_count": 42,
   "id": "c28ed0ff",
   "metadata": {
    "execution": {
     "iopub.execute_input": "2025-09-05T14:45:23.890954Z",
     "iopub.status.busy": "2025-09-05T14:45:23.890650Z",
     "iopub.status.idle": "2025-09-05T14:45:23.907439Z",
     "shell.execute_reply": "2025-09-05T14:45:23.906574Z"
    },
    "papermill": {
     "duration": 0.038428,
     "end_time": "2025-09-05T14:45:23.909018",
     "exception": false,
     "start_time": "2025-09-05T14:45:23.870590",
     "status": "completed"
    },
    "tags": []
   },
   "outputs": [
    {
     "data": {
      "text/html": [
       "<div>\n",
       "<style scoped>\n",
       "    .dataframe tbody tr th:only-of-type {\n",
       "        vertical-align: middle;\n",
       "    }\n",
       "\n",
       "    .dataframe tbody tr th {\n",
       "        vertical-align: top;\n",
       "    }\n",
       "\n",
       "    .dataframe thead th {\n",
       "        text-align: right;\n",
       "    }\n",
       "</style>\n",
       "<table border=\"1\" class=\"dataframe\">\n",
       "  <thead>\n",
       "    <tr style=\"text-align: right;\">\n",
       "      <th></th>\n",
       "      <th>Genres</th>\n",
       "      <th>Installs</th>\n",
       "      <th>Price</th>\n",
       "    </tr>\n",
       "  </thead>\n",
       "  <tbody>\n",
       "    <tr>\n",
       "      <th>0</th>\n",
       "      <td>Action</td>\n",
       "      <td>1,000+</td>\n",
       "      <td>0.372500</td>\n",
       "    </tr>\n",
       "    <tr>\n",
       "      <th>1</th>\n",
       "      <td>Action</td>\n",
       "      <td>1,000,000+</td>\n",
       "      <td>0.326182</td>\n",
       "    </tr>\n",
       "    <tr>\n",
       "      <th>2</th>\n",
       "      <td>Action</td>\n",
       "      <td>10+</td>\n",
       "      <td>0.000000</td>\n",
       "    </tr>\n",
       "    <tr>\n",
       "      <th>3</th>\n",
       "      <td>Action</td>\n",
       "      <td>10,000+</td>\n",
       "      <td>1.871875</td>\n",
       "    </tr>\n",
       "    <tr>\n",
       "      <th>4</th>\n",
       "      <td>Action</td>\n",
       "      <td>10,000,000+</td>\n",
       "      <td>0.012532</td>\n",
       "    </tr>\n",
       "    <tr>\n",
       "      <th>...</th>\n",
       "      <td>...</td>\n",
       "      <td>...</td>\n",
       "      <td>...</td>\n",
       "    </tr>\n",
       "    <tr>\n",
       "      <th>916</th>\n",
       "      <td>Word</td>\n",
       "      <td>5,000,000+</td>\n",
       "      <td>0.000000</td>\n",
       "    </tr>\n",
       "    <tr>\n",
       "      <th>917</th>\n",
       "      <td>Word</td>\n",
       "      <td>50+</td>\n",
       "      <td>0.000000</td>\n",
       "    </tr>\n",
       "    <tr>\n",
       "      <th>918</th>\n",
       "      <td>Word</td>\n",
       "      <td>50,000+</td>\n",
       "      <td>0.000000</td>\n",
       "    </tr>\n",
       "    <tr>\n",
       "      <th>919</th>\n",
       "      <td>Word</td>\n",
       "      <td>50,000,000+</td>\n",
       "      <td>0.000000</td>\n",
       "    </tr>\n",
       "    <tr>\n",
       "      <th>920</th>\n",
       "      <td>Word</td>\n",
       "      <td>500+</td>\n",
       "      <td>0.000000</td>\n",
       "    </tr>\n",
       "  </tbody>\n",
       "</table>\n",
       "<p>921 rows × 3 columns</p>\n",
       "</div>"
      ],
      "text/plain": [
       "     Genres     Installs     Price\n",
       "0    Action       1,000+  0.372500\n",
       "1    Action   1,000,000+  0.326182\n",
       "2    Action          10+  0.000000\n",
       "3    Action      10,000+  1.871875\n",
       "4    Action  10,000,000+  0.012532\n",
       "..      ...          ...       ...\n",
       "916    Word   5,000,000+  0.000000\n",
       "917    Word          50+  0.000000\n",
       "918    Word      50,000+  0.000000\n",
       "919    Word  50,000,000+  0.000000\n",
       "920    Word         500+  0.000000\n",
       "\n",
       "[921 rows x 3 columns]"
      ]
     },
     "execution_count": 42,
     "metadata": {},
     "output_type": "execute_result"
    }
   ],
   "source": [
    "avg_price_grouped = df.groupby(['Genres', 'Installs'])['Price'].mean().reset_index()\n",
    "avg_price_grouped"
   ]
  },
  {
   "cell_type": "code",
   "execution_count": 43,
   "id": "cbe7c23d",
   "metadata": {
    "execution": {
     "iopub.execute_input": "2025-09-05T14:45:23.947542Z",
     "iopub.status.busy": "2025-09-05T14:45:23.947158Z",
     "iopub.status.idle": "2025-09-05T14:45:24.758942Z",
     "shell.execute_reply": "2025-09-05T14:45:24.757749Z"
    },
    "papermill": {
     "duration": 0.832926,
     "end_time": "2025-09-05T14:45:24.760593",
     "exception": false,
     "start_time": "2025-09-05T14:45:23.927667",
     "status": "completed"
    },
    "tags": []
   },
   "outputs": [
    {
     "data": {
      "image/png": "[encoded data removed]",
      "text/plain": [
       "<Figure size 1000x600 with 1 Axes>"
      ]
     },
     "metadata": {},
     "output_type": "display_data"
    }
   ],
   "source": [
    "plt.figure(figsize=(10,6))\n",
    "top_genres = df['Genres'].value_counts().head(10).index\n",
    "sns.scatterplot(x=\"Installs\", y=\"Price\", hue=\"Genres\", data=df[df['Genres'].isin(top_genres)], alpha=0.6)\n",
    "plt.xscale(\"log\") \n",
    "plt.title(\"App Price vs Installs by Genre\")\n",
    "plt.show()\n"
   ]
  },
  {
   "cell_type": "code",
   "execution_count": 44,
   "id": "d836526e",
   "metadata": {
    "execution": {
     "iopub.execute_input": "2025-09-05T14:45:24.802361Z",
     "iopub.status.busy": "2025-09-05T14:45:24.801975Z",
     "iopub.status.idle": "2025-09-05T14:45:24.810316Z",
     "shell.execute_reply": "2025-09-05T14:45:24.809200Z"
    },
    "papermill": {
     "duration": 0.030447,
     "end_time": "2025-09-05T14:45:24.811762",
     "exception": false,
     "start_time": "2025-09-05T14:45:24.781315",
     "status": "completed"
    },
    "tags": []
   },
   "outputs": [
    {
     "name": "stdout",
     "output_type": "stream",
     "text": [
      "Number of apps with rating higher than 4.7: 586 \n",
      "Their average price: 0.455\n"
     ]
    }
   ],
   "source": [
    "high_rating_apps = df[df['Rating'] > 4.7]\n",
    "apps_higher_4_7 = high_rating_apps.shape[0]\n",
    "avg_price_higher_4_7 = high_rating_apps['Price'].mean()\n",
    "\n",
    "print('Number of apps with rating higher than 4.7:', apps_higher_4_7, '\\nTheir average price:', avg_price_higher_4_7)\n"
   ]
  },
  {
   "cell_type": "code",
   "execution_count": 45,
   "id": "f4f5d562",
   "metadata": {
    "execution": {
     "iopub.execute_input": "2025-09-05T14:45:24.854355Z",
     "iopub.status.busy": "2025-09-05T14:45:24.853497Z",
     "iopub.status.idle": "2025-09-05T14:45:24.993689Z",
     "shell.execute_reply": "2025-09-05T14:45:24.992501Z"
    },
    "papermill": {
     "duration": 0.163469,
     "end_time": "2025-09-05T14:45:24.995513",
     "exception": false,
     "start_time": "2025-09-05T14:45:24.832044",
     "status": "completed"
    },
    "tags": []
   },
   "outputs": [
    {
     "data": {
      "image/png": "[encoded data removed]",
      "text/plain": [
       "<Figure size 640x480 with 1 Axes>"
      ]
     },
     "metadata": {},
     "output_type": "display_data"
    }
   ],
   "source": [
    "high_rating_apps = high_rating_apps[high_rating_apps['Price'] > 0].copy()\n",
    "high_rating_apps['LogPrice'] = np.log1p(high_rating_apps['Price']) \n",
    "\n",
    "sns.boxplot(y=high_rating_apps['LogPrice'])\n",
    "plt.title(\"Log-Transformed Price Distribution of Apps with Rating > 4.7\")\n",
    "plt.ylabel(\"log(1 + Price)\")\n",
    "plt.show()"
   ]
  },
  {
   "cell_type": "code",
   "execution_count": 46,
   "id": "713da7d9",
   "metadata": {
    "execution": {
     "iopub.execute_input": "2025-09-05T14:45:25.037813Z",
     "iopub.status.busy": "2025-09-05T14:45:25.037452Z",
     "iopub.status.idle": "2025-09-05T14:45:25.055801Z",
     "shell.execute_reply": "2025-09-05T14:45:25.054764Z"
    },
    "papermill": {
     "duration": 0.041944,
     "end_time": "2025-09-05T14:45:25.057592",
     "exception": false,
     "start_time": "2025-09-05T14:45:25.015648",
     "status": "completed"
    },
    "tags": []
   },
   "outputs": [],
   "source": [
    "# What is Google's estimated revenue from apps with 5,000,000+ installs? (google cut=0.3)\n",
    "\n",
    "df['num_installs']=pd.to_numeric(df['Installs'].str.replace(',','').str.replace('+',''))\n"
   ]
  },
  {
   "cell_type": "code",
   "execution_count": 47,
   "id": "8eb50e2a",
   "metadata": {
    "execution": {
     "iopub.execute_input": "2025-09-05T14:45:25.099244Z",
     "iopub.status.busy": "2025-09-05T14:45:25.098953Z",
     "iopub.status.idle": "2025-09-05T14:45:25.107026Z",
     "shell.execute_reply": "2025-09-05T14:45:25.106235Z"
    },
    "papermill": {
     "duration": 0.0305,
     "end_time": "2025-09-05T14:45:25.108539",
     "exception": false,
     "start_time": "2025-09-05T14:45:25.078039",
     "status": "completed"
    },
    "tags": []
   },
   "outputs": [
    {
     "name": "stdout",
     "output_type": "stream",
     "text": [
      "Google's estimated revenue from apps with 5,000,000+ installs is: $44,910,000.00\n"
     ]
    }
   ],
   "source": [
    "apps_with_5m_installs = df[df['num_installs'] > 5000000]\n",
    "revenue = (apps_with_5m_installs['Price'] * apps_with_5m_installs['num_installs']).sum() * 0.3\n",
    "print(f\"Google's estimated revenue from apps with 5,000,000+ installs is: ${revenue:,.2f}\")"
   ]
  },
  {
   "cell_type": "code",
   "execution_count": 48,
   "id": "75fcf9a2",
   "metadata": {
    "execution": {
     "iopub.execute_input": "2025-09-05T14:45:25.150449Z",
     "iopub.status.busy": "2025-09-05T14:45:25.150051Z",
     "iopub.status.idle": "2025-09-05T14:45:25.390587Z",
     "shell.execute_reply": "2025-09-05T14:45:25.389563Z"
    },
    "papermill": {
     "duration": 0.263302,
     "end_time": "2025-09-05T14:45:25.392035",
     "exception": false,
     "start_time": "2025-09-05T14:45:25.128733",
     "status": "completed"
    },
    "tags": []
   },
   "outputs": [
    {
     "data": {
      "image/png": "[encoded data removed]",
      "text/plain": [
       "<Figure size 640x480 with 1 Axes>"
      ]
     },
     "metadata": {},
     "output_type": "display_data"
    }
   ],
   "source": [
    "apps_with_5m_installs['Estimated_Revenue'] = apps_with_5m_installs['Price'] * apps_with_5m_installs['num_installs'] * 0.3\n",
    "\n",
    "top_revenue_apps = apps_with_5m_installs.sort_values('Estimated_Revenue', ascending=False).head(10)\n",
    "\n",
    "sns.barplot(x='Estimated_Revenue', y='App', data=top_revenue_apps, palette='viridis')\n",
    "plt.title(\"Top 10 (5m downloads+) Revenue-Generating Apps (Price × Installs × 0.3)\")\n",
    "plt.xlabel(\"Estimated Revenue ($)\")\n",
    "plt.ylabel(\"App\")\n",
    "plt.show()\n"
   ]
  },
  {
   "cell_type": "code",
   "execution_count": 49,
   "id": "fc5d5fd3",
   "metadata": {
    "execution": {
     "iopub.execute_input": "2025-09-05T14:45:25.437556Z",
     "iopub.status.busy": "2025-09-05T14:45:25.437234Z",
     "iopub.status.idle": "2025-09-05T14:45:25.454185Z",
     "shell.execute_reply": "2025-09-05T14:45:25.453016Z"
    },
    "papermill": {
     "duration": 0.042134,
     "end_time": "2025-09-05T14:45:25.456086",
     "exception": false,
     "start_time": "2025-09-05T14:45:25.413952",
     "status": "completed"
    },
    "tags": []
   },
   "outputs": [
    {
     "name": "stdout",
     "output_type": "stream",
     "text": [
      "Max size of free app: 100.0 MB, Min size of free app: 1.0 MB\n",
      "Max size of paid app: 100.0 MB, Min size of paid app: 1.0 MB\n"
     ]
    }
   ],
   "source": [
    "max_size_free_app = df[df['Type'] == 'Free']['Size_MB'].max()\n",
    "min_size_free_app = df[df['Type'] == 'Free']['Size_MB'].min()\n",
    "max_size_paid_app = df[df['Type'] == 'Paid']['Size_MB'].max()\n",
    "min_size_paid_app = df[df['Type'] == 'Paid']['Size_MB'].min()\n",
    "print(f\"Max size of free app: {max_size_free_app} MB, Min size of free app: {min_size_free_app} MB\")\n",
    "print(f\"Max size of paid app: {max_size_paid_app} MB, Min size of paid app: {min_size_paid_app} MB\")"
   ]
  },
  {
   "cell_type": "code",
   "execution_count": 50,
   "id": "ca28b170",
   "metadata": {
    "execution": {
     "iopub.execute_input": "2025-09-05T14:45:25.500136Z",
     "iopub.status.busy": "2025-09-05T14:45:25.499870Z",
     "iopub.status.idle": "2025-09-05T14:45:25.684783Z",
     "shell.execute_reply": "2025-09-05T14:45:25.683762Z"
    },
    "papermill": {
     "duration": 0.208882,
     "end_time": "2025-09-05T14:45:25.686399",
     "exception": false,
     "start_time": "2025-09-05T14:45:25.477517",
     "status": "completed"
    },
    "tags": []
   },
   "outputs": [
    {
     "data": {
      "image/png": "[encoded data removed]",
      "text/plain": [
       "<Figure size 640x480 with 1 Axes>"
      ]
     },
     "metadata": {},
     "output_type": "display_data"
    }
   ],
   "source": [
    "sns.scatterplot(x='Type', y='Size_MB', data=df, palette='viridis')\n",
    "plt.title(\"App Size Distribution by Type\")\n",
    "plt.xlabel(\"App Type\")\n",
    "plt.ylabel(\"Size (MB)\")\n",
    "plt.ylim(0, df['Size_MB'].max() + 10)  # Set y-axis limits\n",
    "plt.show()\n"
   ]
  },
  {
   "cell_type": "code",
   "execution_count": 51,
   "id": "a4652522",
   "metadata": {
    "execution": {
     "iopub.execute_input": "2025-09-05T14:45:25.732462Z",
     "iopub.status.busy": "2025-09-05T14:45:25.732170Z",
     "iopub.status.idle": "2025-09-05T14:45:26.097015Z",
     "shell.execute_reply": "2025-09-05T14:45:26.095906Z"
    },
    "papermill": {
     "duration": 0.390247,
     "end_time": "2025-09-05T14:45:26.098850",
     "exception": false,
     "start_time": "2025-09-05T14:45:25.708603",
     "status": "completed"
    },
    "tags": []
   },
   "outputs": [
    {
     "data": {
      "text/plain": [
       "<Axes: >"
      ]
     },
     "execution_count": 51,
     "metadata": {},
     "output_type": "execute_result"
    },
    {
     "data": {
      "image/png": "[encoded data removed]",
      "text/plain": [
       "<Figure size 640x480 with 2 Axes>"
      ]
     },
     "metadata": {},
     "output_type": "display_data"
    }
   ],
   "source": [
    "correlation_matrix = df[['Rating', 'Reviews', 'Size_MB', 'Price']].corr()\n",
    "sns.heatmap(correlation_matrix, annot=True, cmap='coolwarm')"
   ]
  },
  {
   "cell_type": "markdown",
   "id": "2c39ee9e",
   "metadata": {
    "papermill": {
     "duration": 0.02406,
     "end_time": "2025-09-05T14:45:26.146755",
     "exception": false,
     "start_time": "2025-09-05T14:45:26.122695",
     "status": "completed"
    },
    "tags": []
   },
   "source": [
    "- There is almost no meaningful correlation between app rating, number of reviews, size, and price.\n",
    "\n",
    "- In other words, users’ ratings are largely independent of app price, size, or how many reviews an app has."
   ]
  },
  {
   "cell_type": "code",
   "execution_count": 52,
   "id": "015cb9b3",
   "metadata": {
    "execution": {
     "iopub.execute_input": "2025-09-05T14:45:26.194985Z",
     "iopub.status.busy": "2025-09-05T14:45:26.194657Z",
     "iopub.status.idle": "2025-09-05T14:45:26.215224Z",
     "shell.execute_reply": "2025-09-05T14:45:26.214121Z"
    },
    "papermill": {
     "duration": 0.046895,
     "end_time": "2025-09-05T14:45:26.216929",
     "exception": false,
     "start_time": "2025-09-05T14:45:26.170034",
     "status": "completed"
    },
    "tags": []
   },
   "outputs": [
    {
     "name": "stdout",
     "output_type": "stream",
     "text": [
      "Content Rating  Adults only 18+  Everyone  Everyone 10+  Mature 17+  Teen  \\\n",
      "Type                                                                        \n",
      "Free                          3      7720           345         428  1094   \n",
      "Paid                          0       662            32          19    52   \n",
      "\n",
      "Content Rating  Unrated  \n",
      "Type                     \n",
      "Free                  2  \n",
      "Paid                  0  \n"
     ]
    }
   ],
   "source": [
    "apps_by_type_and_rating = df.groupby(['Type', 'Content Rating']).size().unstack(fill_value=0)\n",
    "print(apps_by_type_and_rating)\n"
   ]
  },
  {
   "cell_type": "code",
   "execution_count": 53,
   "id": "6dd73988",
   "metadata": {
    "execution": {
     "iopub.execute_input": "2025-09-05T14:45:26.264595Z",
     "iopub.status.busy": "2025-09-05T14:45:26.264261Z",
     "iopub.status.idle": "2025-09-05T14:45:26.516108Z",
     "shell.execute_reply": "2025-09-05T14:45:26.514901Z"
    },
    "papermill": {
     "duration": 0.27688,
     "end_time": "2025-09-05T14:45:26.517812",
     "exception": false,
     "start_time": "2025-09-05T14:45:26.240932",
     "status": "completed"
    },
    "tags": []
   },
   "outputs": [
    {
     "data": {
      "image/png": "[encoded data removed]",
      "text/plain": [
       "<Figure size 1000x600 with 1 Axes>"
      ]
     },
     "metadata": {},
     "output_type": "display_data"
    }
   ],
   "source": [
    "\n",
    "plt.figure(figsize=(10,6))\n",
    "sns.countplot(data=df, x='Content Rating', hue='Type')\n",
    "\n",
    "plt.title(\"Number of Apps by Content Rating and Type\")\n",
    "plt.xlabel(\"Content Rating\")\n",
    "plt.ylabel(\"Number of Apps\")\n",
    "plt.legend(title=\"Type\")\n",
    "plt.xticks(rotation=30)\n",
    "plt.show()\n"
   ]
  },
  {
   "cell_type": "code",
   "execution_count": 54,
   "id": "e08b00ec",
   "metadata": {
    "execution": {
     "iopub.execute_input": "2025-09-05T14:45:26.566799Z",
     "iopub.status.busy": "2025-09-05T14:45:26.566394Z",
     "iopub.status.idle": "2025-09-05T14:45:26.575283Z",
     "shell.execute_reply": "2025-09-05T14:45:26.574022Z"
    },
    "papermill": {
     "duration": 0.034819,
     "end_time": "2025-09-05T14:45:26.576952",
     "exception": false,
     "start_time": "2025-09-05T14:45:26.542133",
     "status": "completed"
    },
    "tags": []
   },
   "outputs": [
    {
     "name": "stdout",
     "output_type": "stream",
     "text": [
      "Number of apps compatible with Android 4.x: 8206\n"
     ]
    }
   ],
   "source": [
    "apps_4x=df[df['Android_Ver_Num'].between(4.0,4.9)].shape[0]\n",
    "print(\"Number of apps compatible with Android 4.x:\", apps_4x)"
   ]
  },
  {
   "cell_type": "code",
   "execution_count": 55,
   "id": "8d593598",
   "metadata": {
    "execution": {
     "iopub.execute_input": "2025-09-05T14:45:26.626355Z",
     "iopub.status.busy": "2025-09-05T14:45:26.626039Z",
     "iopub.status.idle": "2025-09-05T14:45:26.781753Z",
     "shell.execute_reply": "2025-09-05T14:45:26.780721Z"
    },
    "papermill": {
     "duration": 0.182772,
     "end_time": "2025-09-05T14:45:26.783329",
     "exception": false,
     "start_time": "2025-09-05T14:45:26.600557",
     "status": "completed"
    },
    "tags": []
   },
   "outputs": [
    {
     "data": {
      "image/png": "[encoded data removed]",
      "text/plain": [
       "<Figure size 640x480 with 1 Axes>"
      ]
     },
     "metadata": {},
     "output_type": "display_data"
    }
   ],
   "source": [
    "\n",
    "sns.countplot(x='Android_Ver_Num', data=df[df['Android_Ver_Num'].between(4.0, 4.9)], palette='viridis')\n",
    "plt.title(\"Number of Apps by Android Version (4.0 - 4.9)\")\n",
    "plt.xlabel(\"Android Version\")\n",
    "plt.ylabel(\"Number of Apps\")\n",
    "plt.xticks(rotation=45)\n",
    "plt.show()"
   ]
  },
  {
   "cell_type": "code",
   "execution_count": null,
   "id": "c4db959d",
   "metadata": {
    "papermill": {
     "duration": 0.02392,
     "end_time": "2025-09-05T14:45:26.832140",
     "exception": false,
     "start_time": "2025-09-05T14:45:26.808220",
     "status": "completed"
    },
    "tags": []
   },
   "outputs": [],
   "source": []
  }
 ],
 "metadata": {
  "kaggle": {
   "accelerator": "none",
   "dataSources": [
    {
     "datasetId": 49864,
     "sourceId": 274957,
     "sourceType": "datasetVersion"
    },
    {
     "datasetId": 8209331,
     "sourceId": 12970661,
     "sourceType": "datasetVersion"
    }
   ],
   "dockerImageVersionId": 31089,
   "isGpuEnabled": false,
   "isInternetEnabled": true,
   "language": "python",
   "sourceType": "notebook"
  },
  "kernelspec": {
   "display_name": "Python 3",
   "language": "python",
   "name": "python3"
  },
  "language_info": {
   "codemirror_mode": {
    "name": "ipython",
    "version": 3
   },
   "file_extension": ".py",
   "mimetype": "text/x-python",
   "name": "python",
   "nbconvert_exporter": "python",
   "pygments_lexer": "ipython3",
   "version": "3.11.13"
  },
  "papermill": {
   "default_parameters": {},
   "duration": 17.810076,
   "end_time": "2025-09-05T14:45:27.576352",
   "environment_variables": {},
   "exception": null,
   "input_path": "__notebook__.ipynb",
   "output_path": "__notebook__.ipynb",
   "parameters": {},
   "start_time": "2025-09-05T14:45:09.766276",
   "version": "2.6.0"
  }
 },
 "nbformat": 4,
 "nbformat_minor": 5
}
